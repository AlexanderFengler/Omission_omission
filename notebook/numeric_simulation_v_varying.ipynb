{
 "cells": [
  {
   "cell_type": "code",
   "execution_count": 2,
   "id": "4386390a-e6f0-4648-af4c-cf289ad26af5",
   "metadata": {},
   "outputs": [],
   "source": [
    "import ssms\n",
    "import torch\n",
    "import pickle\n",
    "import numpy as np\n",
    "import os\n",
    "import lanfactory\n",
    "from copy import deepcopy\n",
    "import pandas as pd"
   ]
  },
  {
   "cell_type": "code",
   "execution_count": 3,
   "id": "5853a6a4-4525-414f-85a0-9837a491da4e",
   "metadata": {},
   "outputs": [],
   "source": [
    "from os import PathLike\n",
    "from typing import Callable, Tuple\n",
    "\n",
    "import pytensor \n",
    "pytensor.config.floatX = \"float32\"\n",
    "import pytensor.tensor as pt\n",
    "import jax.numpy as jnp\n",
    "import numpy as np\n",
    "from pytensor.graph import Apply, Op\n",
    "from pytensor.link.jax.dispatch import jax_funcify\n",
    "from jax import grad, jit\n",
    "from numpy.typing import ArrayLike\n",
    "\n",
    "LogLikeFunc = Callable[..., ArrayLike]\n",
    "LogLikeGrad = Callable[..., ArrayLike]\n",
    "\n",
    "import pymc as pm\n",
    "from pytensor.tensor.random.op import RandomVariable\n",
    "\n",
    "import warnings \n",
    "warnings.filterwarnings('ignore')\n",
    "\n",
    "class NetworkLike:\n",
    "    @classmethod\n",
    "    def make_logp_jax_funcs(\n",
    "        cls,\n",
    "        model = None,\n",
    "        n_params: int | None = None,\n",
    "        kind: str = 'lan',\n",
    "    ) -> Tuple[LogLikeFunc, LogLikeGrad, LogLikeFunc,]:\n",
    "        \"\"\"Makes a jax log likelihood function from flax network forward pass.\n",
    "        Args:\n",
    "            model: A path or url to the ONNX model, or an ONNX Model object\n",
    "            already loaded.\n",
    "            compile: Whether to use jit in jax to compile the model.\n",
    "        Returns: A triple of jax or Python functions. The first calculates the\n",
    "            forward pass, the second calculates the gradient, and the third is\n",
    "            the forward-pass that's not jitted.\n",
    "        \"\"\"\n",
    "        if kind == 'lan':\n",
    "            def logp_lan(data: np.ndarray, *dist_params) -> ArrayLike:\n",
    "                \"\"\"\n",
    "                Computes the sum of the log-likelihoods given data and arbitrary\n",
    "                numbers of parameters assuming the trial by trial likelihoods\n",
    "                are derived from a LAN.\n",
    "                Args:\n",
    "                    data: response time with sign indicating direction.\n",
    "                    dist_params: a list of parameters used in the likelihood computation.\n",
    "                Returns:\n",
    "                    The sum of log-likelihoods.\n",
    "                \"\"\"\n",
    "\n",
    "                # Makes a matrix to feed to the LAN model\n",
    "                params_matrix = jnp.repeat(\n",
    "                    jnp.stack(dist_params[:-1]).reshape(1, -1), axis=0, repeats=data.shape[0]\n",
    "                )\n",
    "\n",
    "                # Set 'v' parameters depending on condition\n",
    "                # params_matrix = params_matrix.at[:, 0].set(params_matrix[:, 0] * data[:, 2])\n",
    "\n",
    "                # Stack parameters and data to have full input\n",
    "                input_matrix = jnp.hstack([params_matrix, data[:, :2]])\n",
    "\n",
    "                ssm_ll = jnp.exp(model(input_matrix))\n",
    "\n",
    "\n",
    "                # Include lapse distribution (uniform) into (rt,choice) likelihood\n",
    "                \n",
    "                full_ll = dist_params[-1] * 1/20 + (1 - dist_params[-1]) * ssm_ll\n",
    "\n",
    "                # Network forward and sum\n",
    "                return jnp.sum(\n",
    "                    jnp.squeeze(jnp.log(full_ll))\n",
    "                )\n",
    "\n",
    "            logp_grad_lan = grad(logp_lan, argnums=range(1, 1 + n_params))\n",
    "            return jit(logp_lan), jit(logp_grad_lan), logp_lan\n",
    "\n",
    "        elif kind == 'cpn':\n",
    "            def logp_cpn(data: np.ndarray, *dist_params) -> ArrayLike:\n",
    "                \"\"\"\n",
    "                Computes the sum of the log-likelihoods given data and arbitrary\n",
    "                numbers of parameters assuming the trial-by-trial likelihood derive for a CPN.\n",
    "                Args:\n",
    "                    data: response time with sign indicating direction.\n",
    "                    dist_params: a list of parameters used in the likelihood computation.\n",
    "                Returns:\n",
    "                    The sum of log-likelihoods.\n",
    "                \"\"\"\n",
    "\n",
    "                # Makes a matrix to feed to the LAN model\n",
    "                # n_nogo_go_condition = jnp.sum(data > 0)\n",
    "                # n_nogo_nogo_condition = jnp.sum(data < 0)\n",
    "                n_omission = jnp.sum(data>0)\n",
    "                params_matrix  = jnp.stack(dist_params[:-1]).reshape(1, -1)\n",
    "\n",
    "                # AF-TODO Bugfix here !\n",
    "                # dist_params_nogo = jnp.stack(dist_params).reshape(1, -1)\n",
    "                # dist_params_nogo = dist_params_nogo.at[0].set((-1) * dist_params_nogo[0])\n",
    "\n",
    "                net_in = params_matrix\n",
    "\n",
    "                net_out = jnp.squeeze(model(net_in))\n",
    "\n",
    "                # Include lapse distribution (uniform) into omission likelihood\n",
    "                # dist_params[-1]: p_outlier\n",
    "                # dist_params[-2]: deadline (in second)\n",
    "                # I don't think we should include the p_outlier in this part, because the model will then fit p_outlier to the omission rate\n",
    "                # Or at least we need to adjust the underlying distribution, which do make things complex.\n",
    "                out = jnp.log(1 - jnp.exp(net_out) + 1e-64 + dist_params[-1] * (1 - dist_params[-2]/20)) * n_omission\n",
    "\n",
    "                return out\n",
    "\n",
    "            logp_grad_cpn = grad(logp_cpn, argnums=range(1, 2 + n_params))\n",
    "            return jit(logp_cpn), jit(logp_grad_cpn), logp_cpn\n",
    "\n",
    "    @staticmethod\n",
    "    def make_jax_logp_ops(\n",
    "        logp: LogLikeFunc,\n",
    "        logp_grad: LogLikeGrad,\n",
    "        logp_nojit: LogLikeFunc,\n",
    "    ) -> LogLikeFunc:\n",
    "        \"\"\"Wraps the JAX functions and its gradient in Pytensor Ops.\n",
    "        Args:\n",
    "            logp: A JAX function that represents the feed-forward operation of the\n",
    "                LAN network.\n",
    "            logp_grad: The derivative of the above function.\n",
    "            logp_nojit: A Jax function\n",
    "        Returns:\n",
    "            An pytensor op that wraps the feed-forward operation and can be used with\n",
    "            pytensor.grad.\n",
    "        \"\"\"\n",
    "\n",
    "        class LogpOp(Op):\n",
    "            \"\"\"Wraps a JAX function in an pytensor Op.\"\"\"\n",
    "\n",
    "            def make_node(self, data, *dist_params):\n",
    "                inputs = [\n",
    "                    pt.as_tensor_variable(data),\n",
    "                ] + [pt.as_tensor_variable(dist_param) for dist_param in dist_params]\n",
    "\n",
    "                outputs = [pt.scalar()]\n",
    "\n",
    "                return Apply(self, inputs, outputs)\n",
    "\n",
    "            def perform(self, node, inputs, output_storage):\n",
    "                \"\"\"Performs the Apply node.\n",
    "                Args:\n",
    "                    inputs: This is a list of data from which the values stored in\n",
    "                        output_storage are to be computed using non-symbolic language.\n",
    "                    output_storage: This is a list of storage cells where the output\n",
    "                        is to be stored. A storage cell is a one-element list. It is\n",
    "                        forbidden to change the length of the list(s) contained in\n",
    "                        output_storage. There is one storage cell for each output of\n",
    "                        the Op.\n",
    "                \"\"\"\n",
    "                result = logp(*inputs)\n",
    "                output_storage[0][0] = np.asarray(result, dtype=node.outputs[0].dtype)\n",
    "\n",
    "            def grad(self, inputs, output_grads):\n",
    "                results = lan_logp_grad_op(*inputs)\n",
    "                output_gradient = output_grads[0]\n",
    "                return [\n",
    "                    pytensor.gradient.grad_not_implemented(self, 0, inputs[0]),\n",
    "                ] + [output_gradient * result for result in results]\n",
    "\n",
    "        class LogpGradOp(Op):\n",
    "            \"\"\"Wraps the gradient opearation of a jax function in an pytensor op.\"\"\"\n",
    "\n",
    "            def make_node(self, data, *dist_params):\n",
    "                inputs = [\n",
    "                    pt.as_tensor_variable(data),\n",
    "                ] + [pt.as_tensor_variable(dist_param) for dist_param in dist_params]\n",
    "                outputs = [inp.type() for inp in inputs[1:]]\n",
    "\n",
    "                return Apply(self, inputs, outputs)\n",
    "\n",
    "            def perform(self, node, inputs, outputs):\n",
    "                results = logp_grad(inputs[0], *inputs[1:])\n",
    "\n",
    "                for i, result in enumerate(results):\n",
    "                    outputs[i][0] = np.asarray(result, dtype=node.outputs[i].dtype)\n",
    "\n",
    "        lan_logp_op = LogpOp()\n",
    "        lan_logp_grad_op = LogpGradOp()\n",
    "\n",
    "        # Unwraps the JAX function for sampling with JAX backend.\n",
    "        @jax_funcify.register(LogpOp) # Can fail in notebooks\n",
    "        def logp_op_dispatch(op, **kwargs):  # pylint: disable=W0612,W0613\n",
    "            return logp_nojit\n",
    "\n",
    "        return lan_logp_op"
   ]
  },
  {
   "cell_type": "code",
   "execution_count": 4,
   "id": "9dce9a9a-d6eb-459a-8225-f2f3bd451bdc",
   "metadata": {},
   "outputs": [
    {
     "name": "stderr",
     "output_type": "stream",
     "text": [
      "WARNING: All log messages before absl::InitializeLog() is called are written to STDERR\n",
      "I0000 00:00:1703688184.122246   76786 tfrt_cpu_pjrt_client.cc:349] TfrtCpuClient created.\n",
      "No GPU/TPU found, falling back to CPU. (Set TF_CPP_MIN_LOG_LEVEL=0 and rerun for more info.)\n"
     ]
    },
    {
     "name": "stdout",
     "output_type": "stream",
     "text": [
      "passing through identity\n"
     ]
    }
   ],
   "source": [
    "# Loaded Net\n",
    "model_config = ssms.config.model_config['angle']\n",
    "\n",
    "jax_infer_lan = lanfactory.trainers.MLPJaxFactory(\n",
    "    network_config=\"/users/xleng/data/xleng/proj_lan_pipeline_minimal/LAN_pipeline_minimal/data/networks/jax/lan/angle/a59e9a36932b11ee8336a0423f39b436_lan_angle__network_config.pickle\",\n",
    "    train=False,\n",
    ")\n",
    "\n",
    "forward_pass_lan, forward_pass_jitted_lan = jax_infer_lan.make_forward_partial(\n",
    "    seed=42,\n",
    "    input_dim=model_config[\"n_params\"] + 2,\n",
    "    state=\"/users/xleng/data/xleng/proj_lan_pipeline_minimal/LAN_pipeline_minimal/data/networks/jax/lan/angle/a59e9a36932b11ee8336a0423f39b436_lan_angle__train_state.jax\",\n",
    "    add_jitted=True,\n",
    ")"
   ]
  },
  {
   "cell_type": "code",
   "execution_count": 5,
   "id": "9aee1dfa-afb4-4996-9b20-042f368fbb4a",
   "metadata": {},
   "outputs": [
    {
     "name": "stdout",
     "output_type": "stream",
     "text": [
      "passing through transform\n"
     ]
    }
   ],
   "source": [
    "# Loaded Net\n",
    "jax_infer_cpn = lanfactory.trainers.MLPJaxFactory(\n",
    "    network_config=\"/users/xleng/data/xleng/proj_lan_pipeline_minimal/LAN_pipeline_minimal/data/networks/jax/cpn/angle/9b7fdb6e94a711ee8b09a0423f3e9b42_cpn_angle__network_config.pickle\",\n",
    "    train=False,\n",
    ")\n",
    "\n",
    "forward_pass_cpn, forward_pass_jitted_cpn = jax_infer_cpn.make_forward_partial(\n",
    "    seed=42,\n",
    "    input_dim=model_config[\"n_params\"] + 1,\n",
    "    state=\"/users/xleng/data/xleng/proj_lan_pipeline_minimal/LAN_pipeline_minimal/data/networks/jax/cpn/angle/9b7fdb6e94a711ee8b09a0423f3e9b42_cpn_angle__train_state.jax\",\n",
    "    add_jitted=True,\n",
    ")"
   ]
  },
  {
   "cell_type": "code",
   "execution_count": 6,
   "id": "a6cdf30e-83ec-46db-858a-79439caa93aa",
   "metadata": {},
   "outputs": [],
   "source": [
    "# Instantiate LAN logp functions\n",
    "lan_logp_jitted, lan_logp_grad_jitted, lan_logp = NetworkLike.make_logp_jax_funcs(\n",
    "                                                                                                 model = forward_pass_lan,\n",
    "                                                                                                 n_params = 4,\n",
    "                                                                                                 kind = \"lan\")\n",
    "\n",
    "# Turn into logp op\n",
    "lan_logp_op = NetworkLike.make_jax_logp_ops(\n",
    "                                logp = lan_logp_jitted,\n",
    "                                logp_grad = lan_logp_grad_jitted,\n",
    "                                logp_nojit = lan_logp)\n",
    "\n",
    "# Instantiate CPN logp functions\n",
    "cpn_logp_jitted, cpn_logp_grad_jitted, cpn_logp = NetworkLike.make_logp_jax_funcs(\n",
    "                                                                                                    model = forward_pass_cpn,\n",
    "                                                                                                    n_params = 4,\n",
    "                                                                                                    kind = \"cpn\")\n",
    "\n",
    "# Turn into logp op\n",
    "cpn_logp_op = NetworkLike.make_jax_logp_ops(\n",
    "                                logp = cpn_logp_jitted,\n",
    "                                logp_grad = cpn_logp_grad_jitted,\n",
    "                                logp_nojit = cpn_logp)"
   ]
  },
  {
   "cell_type": "code",
   "execution_count": 7,
   "id": "bf2aec27-df81-4654-a6f7-8f614d87348f",
   "metadata": {},
   "outputs": [
    {
     "name": "stderr",
     "output_type": "stream",
     "text": [
      "Compiling...\n"
     ]
    },
    {
     "name": "stdout",
     "output_type": "stream",
     "text": [
      "passing through identity\n"
     ]
    },
    {
     "name": "stderr",
     "output_type": "stream",
     "text": [
      "Compilation time = 0:00:01.859019\n",
      "Sampling...\n"
     ]
    },
    {
     "name": "stdout",
     "output_type": "stream",
     "text": [
      "passing through identity\n"
     ]
    },
    {
     "name": "stderr",
     "output_type": "stream",
     "text": [
      "  0%|          | 0/3000 [00:00<?, ?it/s]"
     ]
    },
    {
     "name": "stdout",
     "output_type": "stream",
     "text": [
      "passing through identity\n"
     ]
    },
    {
     "name": "stderr",
     "output_type": "stream",
     "text": [
      "sample: 100%|██████████| 3000/3000 [01:14<00:00, 40.39it/s, 15 steps of size 1.72e-01. acc. prob=0.93]\n"
     ]
    },
    {
     "name": "stdout",
     "output_type": "stream",
     "text": [
      "passing through identity\n"
     ]
    },
    {
     "name": "stderr",
     "output_type": "stream",
     "text": [
      "sample: 100%|██████████| 3000/3000 [01:18<00:00, 38.17it/s, 15 steps of size 1.48e-01. acc. prob=0.95]\n",
      "Sampling time = 0:02:35.072480\n",
      "Transforming variables...\n",
      "Transformation time = 0:00:00.231964\n",
      "Compiling...\n"
     ]
    },
    {
     "name": "stdout",
     "output_type": "stream",
     "text": [
      "passing through transform\n"
     ]
    },
    {
     "name": "stderr",
     "output_type": "stream",
     "text": [
      "Compilation time = 0:00:01.229570\n",
      "Sampling...\n"
     ]
    },
    {
     "name": "stdout",
     "output_type": "stream",
     "text": [
      "passing through transform\n",
      "passing through identity\n"
     ]
    },
    {
     "name": "stderr",
     "output_type": "stream",
     "text": [
      "  0%|          | 0/3000 [00:00<?, ?it/s]"
     ]
    },
    {
     "name": "stdout",
     "output_type": "stream",
     "text": [
      "passing through transform\n",
      "passing through identity\n"
     ]
    },
    {
     "name": "stderr",
     "output_type": "stream",
     "text": [
      "sample: 100%|██████████| 3000/3000 [01:31<00:00, 32.93it/s, 15 steps of size 1.50e-01. acc. prob=0.95]\n"
     ]
    },
    {
     "name": "stdout",
     "output_type": "stream",
     "text": [
      "passing through transform\n",
      "passing through identity\n"
     ]
    },
    {
     "name": "stderr",
     "output_type": "stream",
     "text": [
      "sample: 100%|██████████| 3000/3000 [01:26<00:00, 34.82it/s, 15 steps of size 1.54e-01. acc. prob=0.94]\n",
      "Sampling time = 0:02:58.188320\n",
      "Transforming variables...\n",
      "Transformation time = 0:00:00.198108\n",
      "Compiling...\n"
     ]
    },
    {
     "name": "stdout",
     "output_type": "stream",
     "text": [
      "passing through identity\n"
     ]
    },
    {
     "name": "stderr",
     "output_type": "stream",
     "text": [
      "Compilation time = 0:00:01.238779\n",
      "Sampling...\n"
     ]
    },
    {
     "name": "stdout",
     "output_type": "stream",
     "text": [
      "passing through identity\n"
     ]
    },
    {
     "name": "stderr",
     "output_type": "stream",
     "text": [
      "  0%|          | 0/3000 [00:00<?, ?it/s]"
     ]
    },
    {
     "name": "stdout",
     "output_type": "stream",
     "text": [
      "passing through identity\n"
     ]
    },
    {
     "name": "stderr",
     "output_type": "stream",
     "text": [
      "sample: 100%|██████████| 3000/3000 [01:42<00:00, 29.37it/s, 31 steps of size 1.25e-01. acc. prob=0.96]\n"
     ]
    },
    {
     "name": "stdout",
     "output_type": "stream",
     "text": [
      "passing through identity\n"
     ]
    },
    {
     "name": "stderr",
     "output_type": "stream",
     "text": [
      "sample: 100%|██████████| 3000/3000 [02:07<00:00, 23.62it/s, 31 steps of size 1.35e-01. acc. prob=0.95]\n",
      "Sampling time = 0:03:50.088314\n",
      "Transforming variables...\n",
      "Transformation time = 0:00:00.250911\n",
      "Compiling...\n",
      "Compilation time = 0:00:01.712419\n",
      "Sampling...\n"
     ]
    },
    {
     "name": "stdout",
     "output_type": "stream",
     "text": [
      "passing through transform\n",
      "passing through identity\n"
     ]
    },
    {
     "name": "stderr",
     "output_type": "stream",
     "text": [
      "  0%|          | 0/3000 [00:00<?, ?it/s]"
     ]
    },
    {
     "name": "stdout",
     "output_type": "stream",
     "text": [
      "passing through transform\n",
      "passing through identity\n"
     ]
    },
    {
     "name": "stderr",
     "output_type": "stream",
     "text": [
      "sample: 100%|██████████| 3000/3000 [01:47<00:00, 27.97it/s, 31 steps of size 2.07e-01. acc. prob=0.93]\n"
     ]
    },
    {
     "name": "stdout",
     "output_type": "stream",
     "text": [
      "passing through transform\n",
      "passing through identity\n"
     ]
    },
    {
     "name": "stderr",
     "output_type": "stream",
     "text": [
      "sample: 100%|██████████| 3000/3000 [01:27<00:00, 34.28it/s, 15 steps of size 2.13e-01. acc. prob=0.93]\n",
      "Sampling time = 0:03:15.277533\n",
      "Transforming variables...\n",
      "Transformation time = 0:00:00.171372\n",
      "Compiling...\n"
     ]
    },
    {
     "name": "stdout",
     "output_type": "stream",
     "text": [
      "passing through identity\n"
     ]
    },
    {
     "name": "stderr",
     "output_type": "stream",
     "text": [
      "Compilation time = 0:00:01.419826\n",
      "Sampling...\n"
     ]
    },
    {
     "name": "stdout",
     "output_type": "stream",
     "text": [
      "passing through identity\n"
     ]
    },
    {
     "name": "stderr",
     "output_type": "stream",
     "text": [
      "  0%|          | 0/3000 [00:00<?, ?it/s]"
     ]
    },
    {
     "name": "stdout",
     "output_type": "stream",
     "text": [
      "passing through identity\n"
     ]
    },
    {
     "name": "stderr",
     "output_type": "stream",
     "text": [
      "sample: 100%|██████████| 3000/3000 [01:48<00:00, 27.56it/s, 31 steps of size 1.25e-01. acc. prob=0.96]\n"
     ]
    },
    {
     "name": "stdout",
     "output_type": "stream",
     "text": [
      "passing through identity\n"
     ]
    },
    {
     "name": "stderr",
     "output_type": "stream",
     "text": [
      "sample: 100%|██████████| 3000/3000 [02:02<00:00, 24.42it/s, 31 steps of size 1.02e-01. acc. prob=0.97]\n",
      "Sampling time = 0:03:52.605431\n",
      "Transforming variables...\n",
      "Transformation time = 0:00:00.197329\n",
      "Compiling...\n",
      "Compilation time = 0:00:01.107532\n",
      "Sampling...\n"
     ]
    },
    {
     "name": "stdout",
     "output_type": "stream",
     "text": [
      "passing through transform\n",
      "passing through identity\n"
     ]
    },
    {
     "name": "stderr",
     "output_type": "stream",
     "text": [
      "  0%|          | 0/3000 [00:00<?, ?it/s]"
     ]
    },
    {
     "name": "stdout",
     "output_type": "stream",
     "text": [
      "passing through transform\n",
      "passing through identity\n"
     ]
    },
    {
     "name": "stderr",
     "output_type": "stream",
     "text": [
      "sample: 100%|██████████| 3000/3000 [02:08<00:00, 23.37it/s, 3 steps of size 1.11e-01. acc. prob=0.96] \n"
     ]
    },
    {
     "name": "stdout",
     "output_type": "stream",
     "text": [
      "passing through transform\n",
      "passing through identity\n"
     ]
    },
    {
     "name": "stderr",
     "output_type": "stream",
     "text": [
      "sample: 100%|██████████| 3000/3000 [02:04<00:00, 24.14it/s, 31 steps of size 1.01e-01. acc. prob=0.96]\n",
      "Sampling time = 0:04:13.111865\n",
      "Transforming variables...\n",
      "Transformation time = 0:00:00.173179\n",
      "Compiling...\n",
      "Compilation time = 0:00:01.065716\n",
      "Sampling...\n"
     ]
    },
    {
     "name": "stdout",
     "output_type": "stream",
     "text": [
      "passing through identity\n"
     ]
    },
    {
     "name": "stderr",
     "output_type": "stream",
     "text": [
      "  0%|          | 0/3000 [00:00<?, ?it/s]"
     ]
    },
    {
     "name": "stdout",
     "output_type": "stream",
     "text": [
      "passing through identity\n"
     ]
    },
    {
     "name": "stderr",
     "output_type": "stream",
     "text": [
      "sample: 100%|██████████| 3000/3000 [01:53<00:00, 26.43it/s, 47 steps of size 1.11e-01. acc. prob=0.96]\n"
     ]
    },
    {
     "name": "stdout",
     "output_type": "stream",
     "text": [
      "passing through identity\n"
     ]
    },
    {
     "name": "stderr",
     "output_type": "stream",
     "text": [
      "sample: 100%|██████████| 3000/3000 [01:39<00:00, 30.17it/s, 31 steps of size 1.36e-01. acc. prob=0.94]\n",
      "Sampling time = 0:03:33.355294\n",
      "Transforming variables...\n",
      "Transformation time = 0:00:00.176805\n",
      "Compiling...\n",
      "Compilation time = 0:00:01.389644\n",
      "Sampling...\n"
     ]
    },
    {
     "name": "stdout",
     "output_type": "stream",
     "text": [
      "passing through transform\n",
      "passing through identity\n"
     ]
    },
    {
     "name": "stderr",
     "output_type": "stream",
     "text": [
      "  0%|          | 0/3000 [00:00<?, ?it/s]"
     ]
    },
    {
     "name": "stdout",
     "output_type": "stream",
     "text": [
      "passing through transform\n",
      "passing through identity\n"
     ]
    },
    {
     "name": "stderr",
     "output_type": "stream",
     "text": [
      "sample: 100%|██████████| 3000/3000 [01:52<00:00, 26.74it/s, 31 steps of size 1.24e-01. acc. prob=0.95]\n"
     ]
    },
    {
     "name": "stdout",
     "output_type": "stream",
     "text": [
      "passing through transform\n",
      "passing through identity\n"
     ]
    },
    {
     "name": "stderr",
     "output_type": "stream",
     "text": [
      "sample: 100%|██████████| 3000/3000 [01:54<00:00, 26.29it/s, 31 steps of size 1.24e-01. acc. prob=0.96] \n",
      "Sampling time = 0:03:46.772553\n",
      "Transforming variables...\n",
      "Transformation time = 0:00:00.177665\n",
      "Compiling...\n",
      "Compilation time = 0:00:01.080915\n",
      "Sampling...\n"
     ]
    },
    {
     "name": "stdout",
     "output_type": "stream",
     "text": [
      "passing through identity\n"
     ]
    },
    {
     "name": "stderr",
     "output_type": "stream",
     "text": [
      "  0%|          | 0/3000 [00:00<?, ?it/s]"
     ]
    },
    {
     "name": "stdout",
     "output_type": "stream",
     "text": [
      "passing through identity\n"
     ]
    },
    {
     "name": "stderr",
     "output_type": "stream",
     "text": [
      "sample: 100%|██████████| 3000/3000 [02:30<00:00, 19.98it/s, 31 steps of size 1.00e-01. acc. prob=0.94] \n"
     ]
    },
    {
     "name": "stdout",
     "output_type": "stream",
     "text": [
      "passing through identity\n"
     ]
    },
    {
     "name": "stderr",
     "output_type": "stream",
     "text": [
      "sample: 100%|██████████| 3000/3000 [02:15<00:00, 22.12it/s, 23 steps of size 1.05e-01. acc. prob=0.94] \n",
      "Sampling time = 0:04:46.205547\n",
      "Transforming variables...\n",
      "Transformation time = 0:00:00.210941\n",
      "Compiling...\n",
      "Compilation time = 0:00:01.098654\n",
      "Sampling...\n"
     ]
    },
    {
     "name": "stdout",
     "output_type": "stream",
     "text": [
      "passing through transform\n",
      "passing through identity\n"
     ]
    },
    {
     "name": "stderr",
     "output_type": "stream",
     "text": [
      "  0%|          | 0/3000 [00:00<?, ?it/s]"
     ]
    },
    {
     "name": "stdout",
     "output_type": "stream",
     "text": [
      "passing through transform\n",
      "passing through identity\n"
     ]
    },
    {
     "name": "stderr",
     "output_type": "stream",
     "text": [
      "sample: 100%|██████████| 3000/3000 [03:00<00:00, 16.64it/s, 31 steps of size 7.84e-02. acc. prob=0.97] \n"
     ]
    },
    {
     "name": "stdout",
     "output_type": "stream",
     "text": [
      "passing through transform\n",
      "passing through identity\n"
     ]
    },
    {
     "name": "stderr",
     "output_type": "stream",
     "text": [
      "sample: 100%|██████████| 3000/3000 [02:59<00:00, 16.73it/s, 63 steps of size 6.71e-02. acc. prob=0.97] \n",
      "Sampling time = 0:06:00.151621\n",
      "Transforming variables...\n",
      "Transformation time = 0:00:00.172943\n",
      "Compiling...\n"
     ]
    },
    {
     "name": "stdout",
     "output_type": "stream",
     "text": [
      "passing through identity\n"
     ]
    },
    {
     "name": "stderr",
     "output_type": "stream",
     "text": [
      "Compilation time = 0:00:01.473752\n",
      "Sampling...\n"
     ]
    },
    {
     "name": "stdout",
     "output_type": "stream",
     "text": [
      "passing through identity\n"
     ]
    },
    {
     "name": "stderr",
     "output_type": "stream",
     "text": [
      "  0%|          | 0/3000 [00:00<?, ?it/s]"
     ]
    },
    {
     "name": "stdout",
     "output_type": "stream",
     "text": [
      "passing through identity\n"
     ]
    },
    {
     "name": "stderr",
     "output_type": "stream",
     "text": [
      "sample: 100%|██████████| 3000/3000 [02:06<00:00, 23.78it/s, 63 steps of size 7.01e-02. acc. prob=0.97] \n"
     ]
    },
    {
     "name": "stdout",
     "output_type": "stream",
     "text": [
      "passing through identity\n"
     ]
    },
    {
     "name": "stderr",
     "output_type": "stream",
     "text": [
      "sample: 100%|██████████| 3000/3000 [01:25<00:00, 35.06it/s, 23 steps of size 1.14e-01. acc. prob=0.88]\n",
      "Sampling time = 0:03:32.656395\n",
      "Transforming variables...\n",
      "Transformation time = 0:00:00.204261\n",
      "Compiling...\n",
      "Compilation time = 0:00:01.097358\n",
      "Sampling...\n"
     ]
    },
    {
     "name": "stdout",
     "output_type": "stream",
     "text": [
      "passing through transform\n",
      "passing through identity\n"
     ]
    },
    {
     "name": "stderr",
     "output_type": "stream",
     "text": [
      "  0%|          | 0/3000 [00:00<?, ?it/s]"
     ]
    },
    {
     "name": "stdout",
     "output_type": "stream",
     "text": [
      "passing through transform\n",
      "passing through identity\n"
     ]
    },
    {
     "name": "stderr",
     "output_type": "stream",
     "text": [
      "sample: 100%|██████████| 3000/3000 [01:41<00:00, 29.54it/s, 63 steps of size 8.67e-02. acc. prob=0.95] \n"
     ]
    },
    {
     "name": "stdout",
     "output_type": "stream",
     "text": [
      "passing through transform\n",
      "passing through identity\n"
     ]
    },
    {
     "name": "stderr",
     "output_type": "stream",
     "text": [
      "sample: 100%|██████████| 3000/3000 [01:36<00:00, 31.11it/s, 55 steps of size 1.06e-01. acc. prob=0.97]\n",
      "Sampling time = 0:03:18.501838\n",
      "Transforming variables...\n",
      "Transformation time = 0:00:00.197689\n",
      "Compiling...\n"
     ]
    },
    {
     "name": "stdout",
     "output_type": "stream",
     "text": [
      "passing through identity\n"
     ]
    },
    {
     "name": "stderr",
     "output_type": "stream",
     "text": [
      "Compilation time = 0:00:01.195875\n",
      "Sampling...\n"
     ]
    },
    {
     "name": "stdout",
     "output_type": "stream",
     "text": [
      "passing through identity\n"
     ]
    },
    {
     "name": "stderr",
     "output_type": "stream",
     "text": [
      "  0%|          | 0/3000 [00:00<?, ?it/s]"
     ]
    },
    {
     "name": "stdout",
     "output_type": "stream",
     "text": [
      "passing through identity\n"
     ]
    },
    {
     "name": "stderr",
     "output_type": "stream",
     "text": [
      "sample: 100%|██████████| 3000/3000 [01:47<00:00, 27.87it/s, 31 steps of size 1.02e-01. acc. prob=0.91]\n"
     ]
    },
    {
     "name": "stdout",
     "output_type": "stream",
     "text": [
      "passing through identity\n"
     ]
    },
    {
     "name": "stderr",
     "output_type": "stream",
     "text": [
      "sample: 100%|██████████| 3000/3000 [02:01<00:00, 24.71it/s, 23 steps of size 7.36e-02. acc. prob=0.97] \n",
      "Sampling time = 0:03:49.963363\n",
      "Transforming variables...\n",
      "Transformation time = 0:00:00.210187\n",
      "Compiling...\n",
      "Compilation time = 0:00:01.440672\n",
      "Sampling...\n"
     ]
    },
    {
     "name": "stdout",
     "output_type": "stream",
     "text": [
      "passing through transform\n",
      "passing through identity\n"
     ]
    },
    {
     "name": "stderr",
     "output_type": "stream",
     "text": [
      "  0%|          | 0/3000 [00:00<?, ?it/s]"
     ]
    },
    {
     "name": "stdout",
     "output_type": "stream",
     "text": [
      "passing through transform\n",
      "passing through identity\n"
     ]
    },
    {
     "name": "stderr",
     "output_type": "stream",
     "text": [
      "sample: 100%|██████████| 3000/3000 [01:08<00:00, 43.77it/s, 27 steps of size 1.99e-01. acc. prob=0.95]\n"
     ]
    },
    {
     "name": "stdout",
     "output_type": "stream",
     "text": [
      "passing through transform\n",
      "passing through identity\n"
     ]
    },
    {
     "name": "stderr",
     "output_type": "stream",
     "text": [
      "sample: 100%|██████████| 3000/3000 [01:10<00:00, 42.41it/s, 7 steps of size 1.64e-01. acc. prob=0.97] \n",
      "Sampling time = 0:02:19.796355\n",
      "Transforming variables...\n",
      "Transformation time = 0:00:00.192888\n",
      "Compiling...\n"
     ]
    },
    {
     "name": "stdout",
     "output_type": "stream",
     "text": [
      "passing through identity\n"
     ]
    },
    {
     "name": "stderr",
     "output_type": "stream",
     "text": [
      "Compilation time = 0:00:01.187039\n",
      "Sampling...\n"
     ]
    },
    {
     "name": "stdout",
     "output_type": "stream",
     "text": [
      "passing through identity\n"
     ]
    },
    {
     "name": "stderr",
     "output_type": "stream",
     "text": [
      "  0%|          | 0/3000 [00:00<?, ?it/s]"
     ]
    },
    {
     "name": "stdout",
     "output_type": "stream",
     "text": [
      "passing through identity\n"
     ]
    },
    {
     "name": "stderr",
     "output_type": "stream",
     "text": [
      "sample: 100%|██████████| 3000/3000 [02:14<00:00, 22.24it/s, 31 steps of size 8.85e-02. acc. prob=0.94] \n"
     ]
    },
    {
     "name": "stdout",
     "output_type": "stream",
     "text": [
      "passing through identity\n"
     ]
    },
    {
     "name": "stderr",
     "output_type": "stream",
     "text": [
      "sample: 100%|██████████| 3000/3000 [02:21<00:00, 21.26it/s, 31 steps of size 7.97e-02. acc. prob=0.96] \n",
      "Sampling time = 0:04:36.925673\n",
      "Transforming variables...\n",
      "Transformation time = 0:00:00.183304\n",
      "Compiling...\n",
      "Compilation time = 0:00:01.452047\n",
      "Sampling...\n"
     ]
    },
    {
     "name": "stdout",
     "output_type": "stream",
     "text": [
      "passing through transform\n",
      "passing through identity\n"
     ]
    },
    {
     "name": "stderr",
     "output_type": "stream",
     "text": [
      "  0%|          | 0/3000 [00:00<?, ?it/s]"
     ]
    },
    {
     "name": "stdout",
     "output_type": "stream",
     "text": [
      "passing through transform\n",
      "passing through identity\n"
     ]
    },
    {
     "name": "stderr",
     "output_type": "stream",
     "text": [
      "sample: 100%|██████████| 3000/3000 [01:18<00:00, 38.03it/s, 7 steps of size 1.88e-01. acc. prob=0.94] \n"
     ]
    },
    {
     "name": "stdout",
     "output_type": "stream",
     "text": [
      "passing through transform\n",
      "passing through identity\n"
     ]
    },
    {
     "name": "stderr",
     "output_type": "stream",
     "text": [
      "sample: 100%|██████████| 3000/3000 [01:30<00:00, 33.30it/s, 31 steps of size 1.57e-01. acc. prob=0.95]\n",
      "Sampling time = 0:02:49.495705\n",
      "Transforming variables...\n",
      "Transformation time = 0:00:00.174873\n",
      "Compiling...\n",
      "Compilation time = 0:00:01.426402\n",
      "Sampling...\n"
     ]
    },
    {
     "name": "stdout",
     "output_type": "stream",
     "text": [
      "passing through identity\n"
     ]
    },
    {
     "name": "stderr",
     "output_type": "stream",
     "text": [
      "  0%|          | 0/3000 [00:00<?, ?it/s]"
     ]
    },
    {
     "name": "stdout",
     "output_type": "stream",
     "text": [
      "passing through identity\n"
     ]
    },
    {
     "name": "stderr",
     "output_type": "stream",
     "text": [
      "sample: 100%|██████████| 3000/3000 [03:05<00:00, 16.20it/s, 63 steps of size 7.31e-02. acc. prob=0.95] \n"
     ]
    },
    {
     "name": "stdout",
     "output_type": "stream",
     "text": [
      "passing through identity\n"
     ]
    },
    {
     "name": "stderr",
     "output_type": "stream",
     "text": [
      "sample: 100%|██████████| 3000/3000 [03:53<00:00, 12.87it/s, 31 steps of size 4.98e-02. acc. prob=0.97] \n",
      "Sampling time = 0:06:58.632294\n",
      "Transforming variables...\n",
      "Transformation time = 0:00:00.213095\n",
      "Compiling...\n",
      "Compilation time = 0:00:01.083012\n",
      "Sampling...\n"
     ]
    },
    {
     "name": "stdout",
     "output_type": "stream",
     "text": [
      "passing through transform\n",
      "passing through identity\n"
     ]
    },
    {
     "name": "stderr",
     "output_type": "stream",
     "text": [
      "  0%|          | 0/3000 [00:00<?, ?it/s]"
     ]
    },
    {
     "name": "stdout",
     "output_type": "stream",
     "text": [
      "passing through transform\n",
      "passing through identity\n"
     ]
    },
    {
     "name": "stderr",
     "output_type": "stream",
     "text": [
      "sample: 100%|██████████| 3000/3000 [03:47<00:00, 13.17it/s, 15 steps of size 6.34e-02. acc. prob=0.87] \n"
     ]
    },
    {
     "name": "stdout",
     "output_type": "stream",
     "text": [
      "passing through transform\n",
      "passing through identity\n"
     ]
    },
    {
     "name": "stderr",
     "output_type": "stream",
     "text": [
      "sample: 100%|██████████| 3000/3000 [02:47<00:00, 17.88it/s, 47 steps of size 8.41e-02. acc. prob=0.92]\n",
      "Sampling time = 0:06:36.071381\n",
      "Transforming variables...\n",
      "Transformation time = 0:00:00.221852\n",
      "Compiling...\n",
      "Compilation time = 0:00:01.477467\n",
      "Sampling...\n"
     ]
    },
    {
     "name": "stdout",
     "output_type": "stream",
     "text": [
      "passing through identity\n"
     ]
    },
    {
     "name": "stderr",
     "output_type": "stream",
     "text": [
      "  0%|          | 0/3000 [00:00<?, ?it/s]"
     ]
    },
    {
     "name": "stdout",
     "output_type": "stream",
     "text": [
      "passing through identity\n"
     ]
    },
    {
     "name": "stderr",
     "output_type": "stream",
     "text": [
      "sample: 100%|██████████| 3000/3000 [03:06<00:00, 16.09it/s, 63 steps of size 6.79e-02. acc. prob=0.98] \n"
     ]
    },
    {
     "name": "stdout",
     "output_type": "stream",
     "text": [
      "passing through identity\n"
     ]
    },
    {
     "name": "stderr",
     "output_type": "stream",
     "text": [
      "sample: 100%|██████████| 3000/3000 [02:23<00:00, 20.92it/s, 31 steps of size 1.02e-01. acc. prob=0.96]\n",
      "Sampling time = 0:05:30.292556\n",
      "Transforming variables...\n",
      "Transformation time = 0:00:00.203875\n",
      "Compiling...\n",
      "Compilation time = 0:00:01.077706\n",
      "Sampling...\n"
     ]
    },
    {
     "name": "stdout",
     "output_type": "stream",
     "text": [
      "passing through transform\n",
      "passing through identity\n"
     ]
    },
    {
     "name": "stderr",
     "output_type": "stream",
     "text": [
      "  0%|          | 0/3000 [00:00<?, ?it/s]"
     ]
    },
    {
     "name": "stdout",
     "output_type": "stream",
     "text": [
      "passing through transform\n",
      "passing through identity\n"
     ]
    },
    {
     "name": "stderr",
     "output_type": "stream",
     "text": [
      "sample: 100%|██████████| 3000/3000 [02:27<00:00, 20.32it/s, 47 steps of size 1.06e-01. acc. prob=0.94]\n"
     ]
    },
    {
     "name": "stdout",
     "output_type": "stream",
     "text": [
      "passing through transform\n",
      "passing through identity\n"
     ]
    },
    {
     "name": "stderr",
     "output_type": "stream",
     "text": [
      "sample: 100%|██████████| 3000/3000 [02:43<00:00, 18.39it/s, 31 steps of size 8.38e-02. acc. prob=0.96] \n",
      "Sampling time = 0:05:11.271662\n",
      "Transforming variables...\n",
      "Transformation time = 0:00:00.210221\n",
      "Compiling...\n"
     ]
    },
    {
     "name": "stdout",
     "output_type": "stream",
     "text": [
      "passing through identity\n"
     ]
    },
    {
     "name": "stderr",
     "output_type": "stream",
     "text": [
      "Compilation time = 0:00:01.577867\n",
      "Sampling...\n"
     ]
    },
    {
     "name": "stdout",
     "output_type": "stream",
     "text": [
      "passing through identity\n"
     ]
    },
    {
     "name": "stderr",
     "output_type": "stream",
     "text": [
      "  0%|          | 0/3000 [00:00<?, ?it/s]"
     ]
    },
    {
     "name": "stdout",
     "output_type": "stream",
     "text": [
      "passing through identity\n"
     ]
    },
    {
     "name": "stderr",
     "output_type": "stream",
     "text": [
      "sample: 100%|██████████| 3000/3000 [00:54<00:00, 55.30it/s, 15 steps of size 1.78e-01. acc. prob=0.89]\n"
     ]
    },
    {
     "name": "stdout",
     "output_type": "stream",
     "text": [
      "passing through identity\n"
     ]
    },
    {
     "name": "stderr",
     "output_type": "stream",
     "text": [
      "sample: 100%|██████████| 3000/3000 [00:49<00:00, 60.31it/s, 7 steps of size 2.12e-01. acc. prob=0.88] \n",
      "Sampling time = 0:01:44.923646\n",
      "Transforming variables...\n",
      "Transformation time = 0:00:00.179720\n",
      "Compiling...\n",
      "Compilation time = 0:00:01.095026\n",
      "Sampling...\n"
     ]
    },
    {
     "name": "stdout",
     "output_type": "stream",
     "text": [
      "passing through transform\n",
      "passing through identity\n"
     ]
    },
    {
     "name": "stderr",
     "output_type": "stream",
     "text": [
      "  0%|          | 0/3000 [00:00<?, ?it/s]"
     ]
    },
    {
     "name": "stdout",
     "output_type": "stream",
     "text": [
      "passing through transform\n",
      "passing through identity\n"
     ]
    },
    {
     "name": "stderr",
     "output_type": "stream",
     "text": [
      "sample: 100%|██████████| 3000/3000 [01:18<00:00, 38.17it/s, 31 steps of size 1.18e-01. acc. prob=0.97]\n"
     ]
    },
    {
     "name": "stdout",
     "output_type": "stream",
     "text": [
      "passing through transform\n",
      "passing through identity\n"
     ]
    },
    {
     "name": "stderr",
     "output_type": "stream",
     "text": [
      "sample: 100%|██████████| 3000/3000 [01:00<00:00, 49.65it/s, 31 steps of size 1.72e-01. acc. prob=0.95]\n",
      "Sampling time = 0:02:19.544601\n",
      "Transforming variables...\n",
      "Transformation time = 0:00:00.193337\n",
      "Compiling...\n",
      "Compilation time = 0:00:01.095058\n",
      "Sampling...\n"
     ]
    },
    {
     "name": "stdout",
     "output_type": "stream",
     "text": [
      "passing through identity\n"
     ]
    },
    {
     "name": "stderr",
     "output_type": "stream",
     "text": [
      "  0%|          | 0/3000 [00:00<?, ?it/s]"
     ]
    },
    {
     "name": "stdout",
     "output_type": "stream",
     "text": [
      "passing through identity\n"
     ]
    },
    {
     "name": "stderr",
     "output_type": "stream",
     "text": [
      "sample: 100%|██████████| 3000/3000 [01:27<00:00, 34.28it/s, 15 steps of size 1.23e-01. acc. prob=0.94]\n"
     ]
    },
    {
     "name": "stdout",
     "output_type": "stream",
     "text": [
      "passing through identity\n"
     ]
    },
    {
     "name": "stderr",
     "output_type": "stream",
     "text": [
      "sample: 100%|██████████| 3000/3000 [01:24<00:00, 35.61it/s, 31 steps of size 1.09e-01. acc. prob=0.97]\n",
      "Sampling time = 0:02:52.215243\n",
      "Transforming variables...\n",
      "Transformation time = 0:00:00.212350\n",
      "Compiling...\n",
      "Compilation time = 0:00:01.084109\n",
      "Sampling...\n"
     ]
    },
    {
     "name": "stdout",
     "output_type": "stream",
     "text": [
      "passing through transform\n",
      "passing through identity\n"
     ]
    },
    {
     "name": "stderr",
     "output_type": "stream",
     "text": [
      "  0%|          | 0/3000 [00:00<?, ?it/s]"
     ]
    },
    {
     "name": "stdout",
     "output_type": "stream",
     "text": [
      "passing through transform\n",
      "passing through identity\n"
     ]
    },
    {
     "name": "stderr",
     "output_type": "stream",
     "text": [
      "sample: 100%|██████████| 3000/3000 [00:50<00:00, 58.94it/s, 7 steps of size 2.77e-01. acc. prob=0.92] \n"
     ]
    },
    {
     "name": "stdout",
     "output_type": "stream",
     "text": [
      "passing through transform\n",
      "passing through identity\n"
     ]
    },
    {
     "name": "stderr",
     "output_type": "stream",
     "text": [
      "sample: 100%|██████████| 3000/3000 [00:53<00:00, 55.97it/s, 15 steps of size 2.20e-01. acc. prob=0.95]\n",
      "Sampling time = 0:01:45.029267\n",
      "Transforming variables...\n",
      "Transformation time = 0:00:00.203429\n",
      "Compiling...\n"
     ]
    },
    {
     "name": "stdout",
     "output_type": "stream",
     "text": [
      "passing through identity\n"
     ]
    },
    {
     "name": "stderr",
     "output_type": "stream",
     "text": [
      "Compilation time = 0:00:01.182739\n",
      "Sampling...\n"
     ]
    },
    {
     "name": "stdout",
     "output_type": "stream",
     "text": [
      "passing through identity\n"
     ]
    },
    {
     "name": "stderr",
     "output_type": "stream",
     "text": [
      "  0%|          | 0/3000 [00:00<?, ?it/s]"
     ]
    },
    {
     "name": "stdout",
     "output_type": "stream",
     "text": [
      "passing through identity\n"
     ]
    },
    {
     "name": "stderr",
     "output_type": "stream",
     "text": [
      "sample: 100%|██████████| 3000/3000 [02:29<00:00, 20.13it/s, 31 steps of size 7.20e-02. acc. prob=0.95] \n"
     ]
    },
    {
     "name": "stdout",
     "output_type": "stream",
     "text": [
      "passing through identity\n"
     ]
    },
    {
     "name": "stderr",
     "output_type": "stream",
     "text": [
      "sample: 100%|██████████| 3000/3000 [01:44<00:00, 28.70it/s, 31 steps of size 1.16e-01. acc. prob=0.84]\n",
      "Sampling time = 0:04:14.558842\n",
      "Transforming variables...\n",
      "Transformation time = 0:00:00.231293\n",
      "Compiling...\n",
      "Compilation time = 0:00:01.509505\n",
      "Sampling...\n"
     ]
    },
    {
     "name": "stdout",
     "output_type": "stream",
     "text": [
      "passing through transform\n",
      "passing through identity\n"
     ]
    },
    {
     "name": "stderr",
     "output_type": "stream",
     "text": [
      "  0%|          | 0/3000 [00:00<?, ?it/s]"
     ]
    },
    {
     "name": "stdout",
     "output_type": "stream",
     "text": [
      "passing through transform\n",
      "passing through identity\n"
     ]
    },
    {
     "name": "stderr",
     "output_type": "stream",
     "text": [
      "sample: 100%|██████████| 3000/3000 [01:11<00:00, 41.95it/s, 31 steps of size 1.75e-01. acc. prob=0.97]\n"
     ]
    },
    {
     "name": "stdout",
     "output_type": "stream",
     "text": [
      "passing through transform\n",
      "passing through identity\n"
     ]
    },
    {
     "name": "stderr",
     "output_type": "stream",
     "text": [
      "sample: 100%|██████████| 3000/3000 [01:02<00:00, 47.80it/s, 15 steps of size 2.26e-01. acc. prob=0.94]\n",
      "Sampling time = 0:02:14.825028\n",
      "Transforming variables...\n",
      "Transformation time = 0:00:00.212045\n",
      "Compiling...\n"
     ]
    },
    {
     "name": "stdout",
     "output_type": "stream",
     "text": [
      "passing through identity\n"
     ]
    },
    {
     "name": "stderr",
     "output_type": "stream",
     "text": [
      "Compilation time = 0:00:01.193652\n",
      "Sampling...\n"
     ]
    },
    {
     "name": "stdout",
     "output_type": "stream",
     "text": [
      "passing through identity\n"
     ]
    },
    {
     "name": "stderr",
     "output_type": "stream",
     "text": [
      "  0%|          | 0/3000 [00:00<?, ?it/s]"
     ]
    },
    {
     "name": "stdout",
     "output_type": "stream",
     "text": [
      "passing through identity\n"
     ]
    },
    {
     "name": "stderr",
     "output_type": "stream",
     "text": [
      "sample: 100%|██████████| 3000/3000 [03:52<00:00, 12.90it/s, 3 steps of size 4.23e-02. acc. prob=0.87]  \n"
     ]
    },
    {
     "name": "stdout",
     "output_type": "stream",
     "text": [
      "passing through identity\n"
     ]
    },
    {
     "name": "stderr",
     "output_type": "stream",
     "text": [
      "sample: 100%|██████████| 3000/3000 [02:48<00:00, 17.83it/s, 31 steps of size 8.07e-02. acc. prob=0.82] \n",
      "Sampling time = 0:06:41.822028\n",
      "Transforming variables...\n",
      "Transformation time = 0:00:00.217411\n",
      "Compiling...\n",
      "Compilation time = 0:00:01.469704\n",
      "Sampling...\n"
     ]
    },
    {
     "name": "stdout",
     "output_type": "stream",
     "text": [
      "passing through transform\n",
      "passing through identity\n"
     ]
    },
    {
     "name": "stderr",
     "output_type": "stream",
     "text": [
      "  0%|          | 0/3000 [00:00<?, ?it/s]"
     ]
    },
    {
     "name": "stdout",
     "output_type": "stream",
     "text": [
      "passing through transform\n",
      "passing through identity\n"
     ]
    },
    {
     "name": "stderr",
     "output_type": "stream",
     "text": [
      "sample: 100%|██████████| 3000/3000 [03:47<00:00, 13.21it/s, 63 steps of size 5.05e-02. acc. prob=0.92] \n"
     ]
    },
    {
     "name": "stdout",
     "output_type": "stream",
     "text": [
      "passing through transform\n",
      "passing through identity\n"
     ]
    },
    {
     "name": "stderr",
     "output_type": "stream",
     "text": [
      "sample: 100%|██████████| 3000/3000 [03:00<00:00, 16.65it/s, 23 steps of size 7.33e-02. acc. prob=0.90] \n",
      "Sampling time = 0:06:47.735272\n",
      "Transforming variables...\n",
      "Transformation time = 0:00:00.187022\n",
      "Compiling...\n",
      "Compilation time = 0:00:01.113137\n",
      "Sampling...\n"
     ]
    },
    {
     "name": "stdout",
     "output_type": "stream",
     "text": [
      "passing through identity\n"
     ]
    },
    {
     "name": "stderr",
     "output_type": "stream",
     "text": [
      "  0%|          | 0/3000 [00:00<?, ?it/s]"
     ]
    },
    {
     "name": "stdout",
     "output_type": "stream",
     "text": [
      "passing through identity\n"
     ]
    },
    {
     "name": "stderr",
     "output_type": "stream",
     "text": [
      "sample: 100%|██████████| 3000/3000 [02:52<00:00, 17.40it/s, 63 steps of size 8.80e-02. acc. prob=0.92] \n"
     ]
    },
    {
     "name": "stdout",
     "output_type": "stream",
     "text": [
      "passing through identity\n"
     ]
    },
    {
     "name": "stderr",
     "output_type": "stream",
     "text": [
      "sample: 100%|██████████| 3000/3000 [02:57<00:00, 16.88it/s, 63 steps of size 6.62e-02. acc. prob=0.96] \n",
      "Sampling time = 0:05:50.582291\n",
      "Transforming variables...\n",
      "Transformation time = 0:00:00.202236\n",
      "Compiling...\n",
      "Compilation time = 0:00:01.531712\n",
      "Sampling...\n"
     ]
    },
    {
     "name": "stdout",
     "output_type": "stream",
     "text": [
      "passing through transform\n",
      "passing through identity\n"
     ]
    },
    {
     "name": "stderr",
     "output_type": "stream",
     "text": [
      "  0%|          | 0/3000 [00:00<?, ?it/s]"
     ]
    },
    {
     "name": "stdout",
     "output_type": "stream",
     "text": [
      "passing through transform\n",
      "passing through identity\n"
     ]
    },
    {
     "name": "stderr",
     "output_type": "stream",
     "text": [
      "sample: 100%|██████████| 3000/3000 [02:21<00:00, 21.19it/s, 27 steps of size 1.06e-01. acc. prob=0.89] \n"
     ]
    },
    {
     "name": "stdout",
     "output_type": "stream",
     "text": [
      "passing through transform\n",
      "passing through identity\n"
     ]
    },
    {
     "name": "stderr",
     "output_type": "stream",
     "text": [
      "sample: 100%|██████████| 3000/3000 [02:31<00:00, 19.85it/s, 11 steps of size 1.02e-01. acc. prob=0.93] \n",
      "Sampling time = 0:04:53.306444\n",
      "Transforming variables...\n",
      "Transformation time = 0:00:00.219140\n",
      "Compiling...\n"
     ]
    },
    {
     "name": "stdout",
     "output_type": "stream",
     "text": [
      "passing through identity\n"
     ]
    },
    {
     "name": "stderr",
     "output_type": "stream",
     "text": [
      "Compilation time = 0:00:01.215325\n",
      "Sampling...\n"
     ]
    },
    {
     "name": "stdout",
     "output_type": "stream",
     "text": [
      "passing through identity\n"
     ]
    },
    {
     "name": "stderr",
     "output_type": "stream",
     "text": [
      "  0%|          | 0/3000 [00:00<?, ?it/s]"
     ]
    },
    {
     "name": "stdout",
     "output_type": "stream",
     "text": [
      "passing through identity\n"
     ]
    },
    {
     "name": "stderr",
     "output_type": "stream",
     "text": [
      "sample: 100%|██████████| 3000/3000 [00:42<00:00, 70.56it/s, 15 steps of size 1.81e-01. acc. prob=0.93]\n"
     ]
    },
    {
     "name": "stdout",
     "output_type": "stream",
     "text": [
      "passing through identity\n"
     ]
    },
    {
     "name": "stderr",
     "output_type": "stream",
     "text": [
      "sample: 100%|██████████| 3000/3000 [00:42<00:00, 69.82it/s, 7 steps of size 1.65e-01. acc. prob=0.95] \n",
      "Sampling time = 0:01:26.415581\n",
      "Transforming variables...\n",
      "Transformation time = 0:00:00.220415\n",
      "Compiling...\n",
      "Compilation time = 0:00:01.081434\n",
      "Sampling...\n"
     ]
    },
    {
     "name": "stdout",
     "output_type": "stream",
     "text": [
      "passing through transform\n",
      "passing through identity\n"
     ]
    },
    {
     "name": "stderr",
     "output_type": "stream",
     "text": [
      "  0%|          | 0/3000 [00:00<?, ?it/s]"
     ]
    },
    {
     "name": "stdout",
     "output_type": "stream",
     "text": [
      "passing through transform\n",
      "passing through identity\n"
     ]
    },
    {
     "name": "stderr",
     "output_type": "stream",
     "text": [
      "sample: 100%|██████████| 3000/3000 [00:59<00:00, 50.56it/s, 15 steps of size 1.51e-01. acc. prob=0.96]\n"
     ]
    },
    {
     "name": "stdout",
     "output_type": "stream",
     "text": [
      "passing through transform\n",
      "passing through identity\n"
     ]
    },
    {
     "name": "stderr",
     "output_type": "stream",
     "text": [
      "sample: 100%|██████████| 3000/3000 [00:48<00:00, 61.54it/s, 7 steps of size 1.79e-01. acc. prob=0.93] \n",
      "Sampling time = 0:01:48.601007\n",
      "Transforming variables...\n",
      "Transformation time = 0:00:00.204327\n",
      "Compiling...\n"
     ]
    },
    {
     "name": "stdout",
     "output_type": "stream",
     "text": [
      "passing through identity\n"
     ]
    },
    {
     "name": "stderr",
     "output_type": "stream",
     "text": [
      "Compilation time = 0:00:01.177040\n",
      "Sampling...\n"
     ]
    },
    {
     "name": "stdout",
     "output_type": "stream",
     "text": [
      "passing through identity\n"
     ]
    },
    {
     "name": "stderr",
     "output_type": "stream",
     "text": [
      "  0%|          | 0/3000 [00:00<?, ?it/s]"
     ]
    },
    {
     "name": "stdout",
     "output_type": "stream",
     "text": [
      "passing through identity\n"
     ]
    },
    {
     "name": "stderr",
     "output_type": "stream",
     "text": [
      "sample: 100%|██████████| 3000/3000 [01:06<00:00, 45.12it/s, 31 steps of size 1.38e-01. acc. prob=0.96]\n"
     ]
    },
    {
     "name": "stdout",
     "output_type": "stream",
     "text": [
      "passing through identity\n"
     ]
    },
    {
     "name": "stderr",
     "output_type": "stream",
     "text": [
      "sample: 100%|██████████| 3000/3000 [00:57<00:00, 52.29it/s, 15 steps of size 1.48e-01. acc. prob=0.93] \n",
      "Sampling time = 0:02:04.800647\n",
      "Transforming variables...\n",
      "Transformation time = 0:00:00.218881\n",
      "Compiling...\n",
      "Compilation time = 0:00:01.096185\n",
      "Sampling...\n"
     ]
    },
    {
     "name": "stdout",
     "output_type": "stream",
     "text": [
      "passing through transform\n",
      "passing through identity\n"
     ]
    },
    {
     "name": "stderr",
     "output_type": "stream",
     "text": [
      "  0%|          | 0/3000 [00:00<?, ?it/s]"
     ]
    },
    {
     "name": "stdout",
     "output_type": "stream",
     "text": [
      "passing through transform\n",
      "passing through identity\n"
     ]
    },
    {
     "name": "stderr",
     "output_type": "stream",
     "text": [
      "sample: 100%|██████████| 3000/3000 [01:16<00:00, 39.21it/s, 3 steps of size 1.41e-01. acc. prob=0.92] \n"
     ]
    },
    {
     "name": "stdout",
     "output_type": "stream",
     "text": [
      "passing through transform\n",
      "passing through identity\n"
     ]
    },
    {
     "name": "stderr",
     "output_type": "stream",
     "text": [
      "sample: 100%|██████████| 3000/3000 [01:00<00:00, 49.89it/s, 15 steps of size 2.01e-01. acc. prob=0.85]\n",
      "Sampling time = 0:02:17.176440\n",
      "Transforming variables...\n",
      "Transformation time = 0:00:00.222470\n",
      "Compiling...\n"
     ]
    },
    {
     "name": "stdout",
     "output_type": "stream",
     "text": [
      "passing through identity\n"
     ]
    },
    {
     "name": "stderr",
     "output_type": "stream",
     "text": [
      "Compilation time = 0:00:01.172304\n",
      "Sampling...\n"
     ]
    },
    {
     "name": "stdout",
     "output_type": "stream",
     "text": [
      "passing through identity\n"
     ]
    },
    {
     "name": "stderr",
     "output_type": "stream",
     "text": [
      "  0%|          | 0/3000 [00:00<?, ?it/s]"
     ]
    },
    {
     "name": "stdout",
     "output_type": "stream",
     "text": [
      "passing through identity\n"
     ]
    },
    {
     "name": "stderr",
     "output_type": "stream",
     "text": [
      "sample: 100%|██████████| 3000/3000 [01:29<00:00, 33.57it/s, 31 steps of size 1.11e-01. acc. prob=0.97]\n"
     ]
    },
    {
     "name": "stdout",
     "output_type": "stream",
     "text": [
      "passing through identity\n"
     ]
    },
    {
     "name": "stderr",
     "output_type": "stream",
     "text": [
      "sample: 100%|██████████| 3000/3000 [01:08<00:00, 43.62it/s, 15 steps of size 1.66e-01. acc. prob=0.84] \n",
      "Sampling time = 0:02:39.101831\n",
      "Transforming variables...\n",
      "Transformation time = 0:00:00.191006\n",
      "Compiling...\n",
      "Compilation time = 0:00:01.100159\n",
      "Sampling...\n"
     ]
    },
    {
     "name": "stdout",
     "output_type": "stream",
     "text": [
      "passing through transform\n",
      "passing through identity\n"
     ]
    },
    {
     "name": "stderr",
     "output_type": "stream",
     "text": [
      "  0%|          | 0/3000 [00:00<?, ?it/s]"
     ]
    },
    {
     "name": "stdout",
     "output_type": "stream",
     "text": [
      "passing through transform\n",
      "passing through identity\n"
     ]
    },
    {
     "name": "stderr",
     "output_type": "stream",
     "text": [
      "sample: 100%|██████████| 3000/3000 [01:00<00:00, 49.70it/s, 31 steps of size 1.97e-01. acc. prob=0.96]\n"
     ]
    },
    {
     "name": "stdout",
     "output_type": "stream",
     "text": [
      "passing through transform\n",
      "passing through identity\n"
     ]
    },
    {
     "name": "stderr",
     "output_type": "stream",
     "text": [
      "sample: 100%|██████████| 3000/3000 [00:54<00:00, 55.20it/s, 15 steps of size 2.42e-01. acc. prob=0.95]\n",
      "Sampling time = 0:01:55.242063\n",
      "Transforming variables...\n",
      "Transformation time = 0:00:00.211762\n",
      "Compiling...\n"
     ]
    },
    {
     "name": "stdout",
     "output_type": "stream",
     "text": [
      "passing through identity\n"
     ]
    },
    {
     "name": "stderr",
     "output_type": "stream",
     "text": [
      "Compilation time = 0:00:01.170199\n",
      "Sampling...\n"
     ]
    },
    {
     "name": "stdout",
     "output_type": "stream",
     "text": [
      "passing through identity\n"
     ]
    },
    {
     "name": "stderr",
     "output_type": "stream",
     "text": [
      "  0%|          | 0/3000 [00:00<?, ?it/s]"
     ]
    },
    {
     "name": "stdout",
     "output_type": "stream",
     "text": [
      "passing through identity\n"
     ]
    },
    {
     "name": "stderr",
     "output_type": "stream",
     "text": [
      "sample: 100%|██████████| 3000/3000 [02:27<00:00, 20.37it/s, 31 steps of size 8.07e-02. acc. prob=0.97]\n"
     ]
    },
    {
     "name": "stdout",
     "output_type": "stream",
     "text": [
      "passing through identity\n"
     ]
    },
    {
     "name": "stderr",
     "output_type": "stream",
     "text": [
      "sample: 100%|██████████| 3000/3000 [02:11<00:00, 22.75it/s, 63 steps of size 9.07e-02. acc. prob=0.93]\n",
      "Sampling time = 0:04:40.121721\n",
      "Transforming variables...\n",
      "Transformation time = 0:00:00.194734\n",
      "Compiling...\n",
      "Compilation time = 0:00:01.130133\n",
      "Sampling...\n"
     ]
    },
    {
     "name": "stdout",
     "output_type": "stream",
     "text": [
      "passing through transform\n",
      "passing through identity\n"
     ]
    },
    {
     "name": "stderr",
     "output_type": "stream",
     "text": [
      "  0%|          | 0/3000 [00:00<?, ?it/s]"
     ]
    },
    {
     "name": "stdout",
     "output_type": "stream",
     "text": [
      "passing through transform\n",
      "passing through identity\n"
     ]
    },
    {
     "name": "stderr",
     "output_type": "stream",
     "text": [
      "sample: 100%|██████████| 3000/3000 [03:42<00:00, 13.51it/s, 31 steps of size 5.94e-02. acc. prob=0.94] \n"
     ]
    },
    {
     "name": "stdout",
     "output_type": "stream",
     "text": [
      "passing through transform\n",
      "passing through identity\n"
     ]
    },
    {
     "name": "stderr",
     "output_type": "stream",
     "text": [
      "sample: 100%|██████████| 3000/3000 [04:13<00:00, 11.84it/s, 31 steps of size 4.43e-02. acc. prob=0.95] \n",
      "Sampling time = 0:07:56.024294\n",
      "Transforming variables...\n",
      "Transformation time = 0:00:00.217856\n",
      "Compiling...\n",
      "Compilation time = 0:00:01.095168\n",
      "Sampling...\n"
     ]
    },
    {
     "name": "stdout",
     "output_type": "stream",
     "text": [
      "passing through identity\n"
     ]
    },
    {
     "name": "stderr",
     "output_type": "stream",
     "text": [
      "  0%|          | 0/3000 [00:00<?, ?it/s]"
     ]
    },
    {
     "name": "stdout",
     "output_type": "stream",
     "text": [
      "passing through identity\n"
     ]
    },
    {
     "name": "stderr",
     "output_type": "stream",
     "text": [
      "sample: 100%|██████████| 3000/3000 [02:10<00:00, 23.05it/s, 31 steps of size 1.17e-01. acc. prob=0.92]\n"
     ]
    },
    {
     "name": "stdout",
     "output_type": "stream",
     "text": [
      "passing through identity\n"
     ]
    },
    {
     "name": "stderr",
     "output_type": "stream",
     "text": [
      "sample: 100%|██████████| 3000/3000 [02:30<00:00, 19.88it/s, 31 steps of size 8.40e-02. acc. prob=0.97]\n",
      "Sampling time = 0:04:41.506335\n",
      "Transforming variables...\n",
      "Transformation time = 0:00:00.211588\n",
      "Compiling...\n",
      "Compilation time = 0:00:01.109425\n",
      "Sampling...\n"
     ]
    },
    {
     "name": "stdout",
     "output_type": "stream",
     "text": [
      "passing through transform\n",
      "passing through identity\n"
     ]
    },
    {
     "name": "stderr",
     "output_type": "stream",
     "text": [
      "  0%|          | 0/3000 [00:00<?, ?it/s]"
     ]
    },
    {
     "name": "stdout",
     "output_type": "stream",
     "text": [
      "passing through transform\n",
      "passing through identity\n"
     ]
    },
    {
     "name": "stderr",
     "output_type": "stream",
     "text": [
      "sample: 100%|██████████| 3000/3000 [02:28<00:00, 20.25it/s, 63 steps of size 8.57e-02. acc. prob=0.97]\n"
     ]
    },
    {
     "name": "stdout",
     "output_type": "stream",
     "text": [
      "passing through transform\n",
      "passing through identity\n"
     ]
    },
    {
     "name": "stderr",
     "output_type": "stream",
     "text": [
      "sample: 100%|██████████| 3000/3000 [02:42<00:00, 18.51it/s, 31 steps of size 9.19e-02. acc. prob=0.96] \n",
      "Sampling time = 0:05:10.816023\n",
      "Transforming variables...\n",
      "Transformation time = 0:00:00.219544\n",
      "Compiling...\n"
     ]
    },
    {
     "name": "stdout",
     "output_type": "stream",
     "text": [
      "passing through identity\n"
     ]
    },
    {
     "name": "stderr",
     "output_type": "stream",
     "text": [
      "Compilation time = 0:00:01.184363\n",
      "Sampling...\n"
     ]
    },
    {
     "name": "stdout",
     "output_type": "stream",
     "text": [
      "passing through identity\n"
     ]
    },
    {
     "name": "stderr",
     "output_type": "stream",
     "text": [
      "  0%|          | 0/3000 [00:00<?, ?it/s]"
     ]
    },
    {
     "name": "stdout",
     "output_type": "stream",
     "text": [
      "passing through identity\n"
     ]
    },
    {
     "name": "stderr",
     "output_type": "stream",
     "text": [
      "sample: 100%|██████████| 3000/3000 [00:48<00:00, 61.97it/s, 15 steps of size 1.08e-01. acc. prob=0.97]\n"
     ]
    },
    {
     "name": "stdout",
     "output_type": "stream",
     "text": [
      "passing through identity\n"
     ]
    },
    {
     "name": "stderr",
     "output_type": "stream",
     "text": [
      "sample: 100%|██████████| 3000/3000 [00:42<00:00, 70.43it/s, 31 steps of size 1.33e-01. acc. prob=0.96]\n",
      "Sampling time = 0:01:31.968554\n",
      "Transforming variables...\n",
      "Transformation time = 0:00:00.676038\n",
      "Compiling...\n",
      "Compilation time = 0:00:01.093899\n",
      "Sampling...\n"
     ]
    },
    {
     "name": "stdout",
     "output_type": "stream",
     "text": [
      "passing through transform\n",
      "passing through identity\n"
     ]
    },
    {
     "name": "stderr",
     "output_type": "stream",
     "text": [
      "  0%|          | 0/3000 [00:00<?, ?it/s]"
     ]
    },
    {
     "name": "stdout",
     "output_type": "stream",
     "text": [
      "passing through transform\n",
      "passing through identity\n"
     ]
    },
    {
     "name": "stderr",
     "output_type": "stream",
     "text": [
      "sample: 100%|██████████| 3000/3000 [01:04<00:00, 46.29it/s, 15 steps of size 9.49e-02. acc. prob=0.95] \n"
     ]
    },
    {
     "name": "stdout",
     "output_type": "stream",
     "text": [
      "passing through transform\n",
      "passing through identity\n"
     ]
    },
    {
     "name": "stderr",
     "output_type": "stream",
     "text": [
      "sample: 100%|██████████| 3000/3000 [00:56<00:00, 52.85it/s, 31 steps of size 1.15e-01. acc. prob=0.94]\n",
      "Sampling time = 0:02:02.090824\n",
      "Transforming variables...\n",
      "Transformation time = 0:00:00.213974\n",
      "Compiling...\n"
     ]
    },
    {
     "name": "stdout",
     "output_type": "stream",
     "text": [
      "passing through identity\n"
     ]
    },
    {
     "name": "stderr",
     "output_type": "stream",
     "text": [
      "Compilation time = 0:00:01.187682\n",
      "Sampling...\n"
     ]
    },
    {
     "name": "stdout",
     "output_type": "stream",
     "text": [
      "passing through identity\n"
     ]
    },
    {
     "name": "stderr",
     "output_type": "stream",
     "text": [
      "  0%|          | 0/3000 [00:00<?, ?it/s]"
     ]
    },
    {
     "name": "stdout",
     "output_type": "stream",
     "text": [
      "passing through identity\n"
     ]
    },
    {
     "name": "stderr",
     "output_type": "stream",
     "text": [
      "sample: 100%|██████████| 3000/3000 [00:49<00:00, 60.50it/s, 15 steps of size 1.53e-01. acc. prob=0.95]\n"
     ]
    },
    {
     "name": "stdout",
     "output_type": "stream",
     "text": [
      "passing through identity\n"
     ]
    },
    {
     "name": "stderr",
     "output_type": "stream",
     "text": [
      "sample: 100%|██████████| 3000/3000 [00:50<00:00, 59.22it/s, 31 steps of size 1.20e-01. acc. prob=0.98]\n",
      "Sampling time = 0:01:41.185791\n",
      "Transforming variables...\n",
      "Transformation time = 0:00:00.204875\n",
      "Compiling...\n",
      "Compilation time = 0:00:01.559101\n",
      "Sampling...\n"
     ]
    },
    {
     "name": "stdout",
     "output_type": "stream",
     "text": [
      "passing through transform\n",
      "passing through identity\n"
     ]
    },
    {
     "name": "stderr",
     "output_type": "stream",
     "text": [
      "  0%|          | 0/3000 [00:00<?, ?it/s]"
     ]
    },
    {
     "name": "stdout",
     "output_type": "stream",
     "text": [
      "passing through transform\n",
      "passing through identity\n"
     ]
    },
    {
     "name": "stderr",
     "output_type": "stream",
     "text": [
      "sample: 100%|██████████| 3000/3000 [01:11<00:00, 41.77it/s, 31 steps of size 1.03e-01. acc. prob=0.97]\n"
     ]
    },
    {
     "name": "stdout",
     "output_type": "stream",
     "text": [
      "passing through transform\n",
      "passing through identity\n"
     ]
    },
    {
     "name": "stderr",
     "output_type": "stream",
     "text": [
      "sample: 100%|██████████| 3000/3000 [01:06<00:00, 45.05it/s, 31 steps of size 1.26e-01. acc. prob=0.95]\n",
      "Sampling time = 0:02:18.943889\n",
      "Transforming variables...\n",
      "Transformation time = 0:00:00.205709\n",
      "Compiling...\n"
     ]
    },
    {
     "name": "stdout",
     "output_type": "stream",
     "text": [
      "passing through identity\n"
     ]
    },
    {
     "name": "stderr",
     "output_type": "stream",
     "text": [
      "Compilation time = 0:00:01.180079\n",
      "Sampling...\n"
     ]
    },
    {
     "name": "stdout",
     "output_type": "stream",
     "text": [
      "passing through identity\n"
     ]
    },
    {
     "name": "stderr",
     "output_type": "stream",
     "text": [
      "  0%|          | 0/3000 [00:00<?, ?it/s]"
     ]
    },
    {
     "name": "stdout",
     "output_type": "stream",
     "text": [
      "passing through identity\n"
     ]
    },
    {
     "name": "stderr",
     "output_type": "stream",
     "text": [
      "sample: 100%|██████████| 3000/3000 [01:13<00:00, 41.09it/s, 31 steps of size 1.30e-01. acc. prob=0.93]\n"
     ]
    },
    {
     "name": "stdout",
     "output_type": "stream",
     "text": [
      "passing through identity\n"
     ]
    },
    {
     "name": "stderr",
     "output_type": "stream",
     "text": [
      "sample: 100%|██████████| 3000/3000 [01:06<00:00, 45.18it/s, 23 steps of size 1.35e-01. acc. prob=0.92]\n",
      "Sampling time = 0:02:20.333003\n",
      "Transforming variables...\n",
      "Transformation time = 0:00:00.205365\n",
      "Compiling...\n",
      "Compilation time = 0:00:01.572068\n",
      "Sampling...\n"
     ]
    },
    {
     "name": "stdout",
     "output_type": "stream",
     "text": [
      "passing through transform\n",
      "passing through identity\n"
     ]
    },
    {
     "name": "stderr",
     "output_type": "stream",
     "text": [
      "  0%|          | 0/3000 [00:00<?, ?it/s]"
     ]
    },
    {
     "name": "stdout",
     "output_type": "stream",
     "text": [
      "passing through transform\n",
      "passing through identity\n"
     ]
    },
    {
     "name": "stderr",
     "output_type": "stream",
     "text": [
      "sample: 100%|██████████| 3000/3000 [01:21<00:00, 36.60it/s, 31 steps of size 1.30e-01. acc. prob=0.96]\n"
     ]
    },
    {
     "name": "stdout",
     "output_type": "stream",
     "text": [
      "passing through transform\n",
      "passing through identity\n"
     ]
    },
    {
     "name": "stderr",
     "output_type": "stream",
     "text": [
      "sample: 100%|██████████| 3000/3000 [01:35<00:00, 31.36it/s, 31 steps of size 8.72e-02. acc. prob=0.94] \n",
      "Sampling time = 0:02:58.141244\n",
      "Transforming variables...\n",
      "Transformation time = 0:00:00.216546\n",
      "Compiling...\n"
     ]
    },
    {
     "name": "stdout",
     "output_type": "stream",
     "text": [
      "passing through identity\n"
     ]
    },
    {
     "name": "stderr",
     "output_type": "stream",
     "text": [
      "Compilation time = 0:00:01.172454\n",
      "Sampling...\n"
     ]
    },
    {
     "name": "stdout",
     "output_type": "stream",
     "text": [
      "passing through identity\n"
     ]
    },
    {
     "name": "stderr",
     "output_type": "stream",
     "text": [
      "  0%|          | 0/3000 [00:00<?, ?it/s]"
     ]
    },
    {
     "name": "stdout",
     "output_type": "stream",
     "text": [
      "passing through identity\n"
     ]
    },
    {
     "name": "stderr",
     "output_type": "stream",
     "text": [
      "sample: 100%|██████████| 3000/3000 [01:50<00:00, 27.18it/s, 31 steps of size 1.00e-01. acc. prob=0.95]\n"
     ]
    },
    {
     "name": "stdout",
     "output_type": "stream",
     "text": [
      "passing through identity\n"
     ]
    },
    {
     "name": "stderr",
     "output_type": "stream",
     "text": [
      "sample: 100%|██████████| 3000/3000 [01:43<00:00, 28.93it/s, 31 steps of size 1.21e-01. acc. prob=0.94]\n",
      "Sampling time = 0:03:34.995350\n",
      "Transforming variables...\n",
      "Transformation time = 0:00:00.175779\n",
      "Compiling...\n",
      "Compilation time = 0:00:01.598665\n",
      "Sampling...\n"
     ]
    },
    {
     "name": "stdout",
     "output_type": "stream",
     "text": [
      "passing through transform\n",
      "passing through identity\n"
     ]
    },
    {
     "name": "stderr",
     "output_type": "stream",
     "text": [
      "  0%|          | 0/3000 [00:00<?, ?it/s]"
     ]
    },
    {
     "name": "stdout",
     "output_type": "stream",
     "text": [
      "passing through transform\n",
      "passing through identity\n"
     ]
    },
    {
     "name": "stderr",
     "output_type": "stream",
     "text": [
      "sample: 100%|██████████| 3000/3000 [02:32<00:00, 19.66it/s, 23 steps of size 7.80e-02. acc. prob=0.97]\n"
     ]
    },
    {
     "name": "stdout",
     "output_type": "stream",
     "text": [
      "passing through transform\n",
      "passing through identity\n"
     ]
    },
    {
     "name": "stderr",
     "output_type": "stream",
     "text": [
      "sample: 100%|██████████| 3000/3000 [01:41<00:00, 29.47it/s, 15 steps of size 1.22e-01. acc. prob=0.94]\n",
      "Sampling time = 0:04:14.948628\n",
      "Transforming variables...\n",
      "Transformation time = 0:00:00.205607\n",
      "Compiling...\n",
      "Compilation time = 0:00:01.104810\n",
      "Sampling...\n"
     ]
    },
    {
     "name": "stdout",
     "output_type": "stream",
     "text": [
      "passing through identity\n"
     ]
    },
    {
     "name": "stderr",
     "output_type": "stream",
     "text": [
      "  0%|          | 0/3000 [00:00<?, ?it/s]"
     ]
    },
    {
     "name": "stdout",
     "output_type": "stream",
     "text": [
      "passing through identity\n"
     ]
    },
    {
     "name": "stderr",
     "output_type": "stream",
     "text": [
      "sample: 100%|██████████| 3000/3000 [01:56<00:00, 25.68it/s, 31 steps of size 1.39e-01. acc. prob=0.95]\n"
     ]
    },
    {
     "name": "stdout",
     "output_type": "stream",
     "text": [
      "passing through identity\n"
     ]
    },
    {
     "name": "stderr",
     "output_type": "stream",
     "text": [
      "sample: 100%|██████████| 3000/3000 [01:50<00:00, 27.04it/s, 15 steps of size 1.50e-01. acc. prob=0.92]\n",
      "Sampling time = 0:03:48.224914\n",
      "Transforming variables...\n",
      "Transformation time = 0:00:00.182520\n",
      "Compiling...\n",
      "Compilation time = 0:00:01.110019\n",
      "Sampling...\n"
     ]
    },
    {
     "name": "stdout",
     "output_type": "stream",
     "text": [
      "passing through transform\n",
      "passing through identity\n"
     ]
    },
    {
     "name": "stderr",
     "output_type": "stream",
     "text": [
      "  0%|          | 0/3000 [00:00<?, ?it/s]"
     ]
    },
    {
     "name": "stdout",
     "output_type": "stream",
     "text": [
      "passing through transform\n",
      "passing through identity\n"
     ]
    },
    {
     "name": "stderr",
     "output_type": "stream",
     "text": [
      "sample: 100%|██████████| 3000/3000 [01:56<00:00, 25.75it/s, 31 steps of size 1.37e-01. acc. prob=0.94]\n"
     ]
    },
    {
     "name": "stdout",
     "output_type": "stream",
     "text": [
      "passing through transform\n",
      "passing through identity\n"
     ]
    },
    {
     "name": "stderr",
     "output_type": "stream",
     "text": [
      "sample: 100%|██████████| 3000/3000 [01:49<00:00, 27.32it/s, 31 steps of size 1.31e-01. acc. prob=0.95]\n",
      "Sampling time = 0:03:46.860069\n",
      "Transforming variables...\n",
      "Transformation time = 0:00:00.212493\n"
     ]
    }
   ],
   "source": [
    "from pymc.sampling import jax as pmj\n",
    "\n",
    "# Just to keep the blog-post pretty automatically\n",
    "import warnings \n",
    "warnings.filterwarnings('ignore')\n",
    "\n",
    "\n",
    "a_list  = np.linspace(1,2,5)\n",
    "theta_list  = np.linspace(0.2,1.2,5)\n",
    "# Test parameters:\n",
    "# v, z, t, deadline = 2, 0.5, 0.3, 1.25\n",
    "\n",
    "a_true = []\n",
    "theta_true = []\n",
    "\n",
    "a_pred_nd = []\n",
    "theta_pred_nd = []\n",
    "\n",
    "a_pred_d = []\n",
    "theta_pred_d = []\n",
    "\n",
    "omission_list = []\n",
    "\n",
    "for a in a_list:\n",
    "    for theta in theta_list:\n",
    "        v, z, t, deadline = 1, 0.5, 0.3, 1.25\n",
    "        a_true.append(a)\n",
    "        theta_true.append(theta)\n",
    "\n",
    "        # Comparison simulator run\n",
    "        sim_out = ssms.basic_simulators.simulator.simulator(\n",
    "            model='angle', theta=[v, a, z, t, theta], n_samples=1000\n",
    "        )\n",
    "        data = np.hstack([sim_out['rts'], sim_out['choices']]).astype(np.float32)\n",
    "        data_commission = data[data[:,0]<deadline,:]\n",
    "        data_omission = data[:,0]>=deadline\n",
    "        data_omission = data_omission.astype(np.float32)\n",
    "        omission_rate = np.mean(data_omission)\n",
    "\n",
    "        omission_list.append(omission_rate)\n",
    "        \n",
    "        with pm.Model() as ddm:\n",
    "            # Define simple Uniform priors\n",
    "            v1 = pm.Uniform(\"v\", -3.0, 3.0)\n",
    "            a1 = pm.Uniform(\"a\", 0.3, 2.5)\n",
    "            z = pt.constant(0.5)\n",
    "            t = pm.Uniform(\"t\", 0.0, 2.0)\n",
    "            theta =pm.Uniform(\"theta\", 0.0, 1.2)\n",
    "            deadline = pt.constant(1.25)\n",
    "            p_outlier = pm.Uniform(\"p_outlier\", 0.0, 0.1)\n",
    "            # t = pm.Uniform(\"t\", 0.0, 2.0)\n",
    "            # theta = pm.Uniform(\"theta\",0,1.3)\n",
    "            # ddl = pt.constant(1.25)\n",
    "            \n",
    "        \n",
    "            pm.Potential(\"choice_rt\", lan_logp_op(data_commission, v1, a1, z, t, theta,p_outlier))\n",
    "            #pm.Potential(\"omission\", cpn_logp_op(data_omission, v1, a1, z, t, theta,deadline))\n",
    "        \n",
    "            ddm_blog_traces_numpyro = pmj.sample_numpyro_nuts(\n",
    "                    chains=2, draws=2000, tune=1000,target_accept=0.9\n",
    "                    )\n",
    "            post_summary = pm.summary(ddm_blog_traces_numpyro)\n",
    "\n",
    "        a_pred_nd.append(post_summary.loc['a','mean'])\n",
    "        theta_pred_nd.append(post_summary.loc['theta','mean'])\n",
    "        \n",
    "\n",
    "        with pm.Model() as ddm:\n",
    "            # Define simple Uniform priors\n",
    "            v1 = pm.Uniform(\"v\", -3.0, 3.0)\n",
    "            a1 = pm.Uniform(\"a\", 0.3, 2.5)\n",
    "            z = pt.constant(0.5)\n",
    "            t = pm.Uniform(\"t\", 0.0, 2.0)\n",
    "            theta =pm.Uniform(\"theta\", 0.0, 1.2)\n",
    "            deadline = pt.constant(1.25)\n",
    "            p_outlier = pm.Uniform(\"p_outlier\", 0.0, 0.1)\n",
    "            # t = pm.Uniform(\"t\", 0.0, 2.0)\n",
    "            # theta = pm.Uniform(\"theta\",0,1.3)\n",
    "            # ddl = pt.constant(1.25)\n",
    "            \n",
    "        \n",
    "            pm.Potential(\"choice_rt\", lan_logp_op(data_commission, v1, a1, z, t, theta,p_outlier))\n",
    "            pm.Potential(\"omission\", cpn_logp_op(data_omission, v1, a1, z, t, theta,deadline,p_outlier))\n",
    "        \n",
    "            ddm_blog_traces_numpyro = pmj.sample_numpyro_nuts(\n",
    "                    chains=2, draws=2000, tune=1000,target_accept=0.9\n",
    "                    )\n",
    "            post_summary = pm.summary(ddm_blog_traces_numpyro)     \n",
    "        a_pred_d.append(post_summary.loc['a','mean'])\n",
    "        theta_pred_d.append(post_summary.loc['theta','mean'])"
   ]
  },
  {
   "cell_type": "code",
   "execution_count": 9,
   "id": "54c99b15-4bb5-4e92-a600-95a73acbb465",
   "metadata": {},
   "outputs": [],
   "source": [
    "import matplotlib.pyplot as plt"
   ]
  },
  {
   "cell_type": "code",
   "execution_count": 10,
   "id": "af6fb246-043e-436d-b2e0-f2e4009091ab",
   "metadata": {},
   "outputs": [
    {
     "data": {
      "text/plain": [
       "[1.104,\n",
       " 1.05,\n",
       " 0.985,\n",
       " 0.953,\n",
       " 0.954,\n",
       " 2.319,\n",
       " 2.341,\n",
       " 1.381,\n",
       " 2.235,\n",
       " 1.124,\n",
       " 2.436,\n",
       " 2.439,\n",
       " 2.403,\n",
       " 2.32,\n",
       " 1.379,\n",
       " 2.433,\n",
       " 2.448,\n",
       " 2.449,\n",
       " 2.436,\n",
       " 1.648,\n",
       " 2.42,\n",
       " 2.443,\n",
       " 2.439,\n",
       " 2.451,\n",
       " 1.928]"
      ]
     },
     "execution_count": 10,
     "metadata": {},
     "output_type": "execute_result"
    }
   ],
   "source": [
    "a_pred_nd"
   ]
  },
  {
   "cell_type": "code",
   "execution_count": 11,
   "id": "370bc4e6-e785-49ca-9587-13ebc689646f",
   "metadata": {},
   "outputs": [
    {
     "data": {
      "text/plain": [
       "[0.2,\n",
       " 0.45,\n",
       " 0.7,\n",
       " 0.95,\n",
       " 1.2,\n",
       " 0.2,\n",
       " 0.45,\n",
       " 0.7,\n",
       " 0.95,\n",
       " 1.2,\n",
       " 0.2,\n",
       " 0.45,\n",
       " 0.7,\n",
       " 0.95,\n",
       " 1.2,\n",
       " 0.2,\n",
       " 0.45,\n",
       " 0.7,\n",
       " 0.95,\n",
       " 1.2,\n",
       " 0.2,\n",
       " 0.45,\n",
       " 0.7,\n",
       " 0.95,\n",
       " 1.2]"
      ]
     },
     "execution_count": 11,
     "metadata": {},
     "output_type": "execute_result"
    }
   ],
   "source": [
    "theta_true"
   ]
  },
  {
   "cell_type": "code",
   "execution_count": 12,
   "id": "cf15691f-248a-419b-8bf7-c9498ee99959",
   "metadata": {},
   "outputs": [
    {
     "data": {
      "image/png": "[encoded data removed]",
      "text/plain": [
       "<Figure size 640x480 with 2 Axes>"
      ]
     },
     "metadata": {},
     "output_type": "display_data"
    }
   ],
   "source": [
    "n_lines = len(theta_list)\n",
    "c = np.arange(1, n_lines + 1)\n",
    "import matplotlib as mpl\n",
    "norm = mpl.colors.Normalize(vmin=theta_list[0], vmax=theta_list[4])\n",
    "cmap = mpl.cm.ScalarMappable(norm=norm, cmap=mpl.cm.jet)\n",
    "cmap.set_array([])\n",
    "\"\"\"\n",
    "fig, ax = plt.subplots(dpi=100)\n",
    "for i, yi in enumerate(y.T):\n",
    "    ax.plot(x, yi, c=cmap.to_rgba(i + 1))\n",
    "fig.colorbar(cmap, ticks=c)\n",
    "plt.show();\n",
    "\"\"\"\n",
    "fig, ax = plt.subplots(dpi=100)\n",
    "for i,theta in enumerate(theta_list):\n",
    "    mask = np.array(theta_true)==theta\n",
    "    a_true_sub = np.array(a_true)[mask]\n",
    "    or_sub = np.array(omission_list)[mask]\n",
    "    #plt.scatter(a_true_sub,a_pred_d_sub)\n",
    "    ax.plot(a_true_sub,or_sub,linestyle='-', marker='o',color=cmap.to_rgba(theta))\n",
    "plt.colorbar(cmap,ax=ax,ticks=theta_list,label='True theta')\n",
    "# ax.plot(a_true_sub,a_true_sub,linestyle='--', color='black')\n",
    "plt.xlabel('True a')\n",
    "plt.ylabel('Omission Rate')\n",
    "plt.show()"
   ]
  },
  {
   "cell_type": "code",
   "execution_count": 13,
   "id": "1418a6ae-6043-4e32-ab70-86d4852a79a6",
   "metadata": {},
   "outputs": [
    {
     "data": {
      "image/png": "[encoded data removed]",
      "text/plain": [
       "<Figure size 640x480 with 2 Axes>"
      ]
     },
     "metadata": {},
     "output_type": "display_data"
    }
   ],
   "source": [
    "n_lines = len(theta_list)\n",
    "c = np.arange(1, n_lines + 1)\n",
    "import matplotlib as mpl\n",
    "norm = mpl.colors.Normalize(vmin=theta_list[0], vmax=theta_list[4])\n",
    "cmap = mpl.cm.ScalarMappable(norm=norm, cmap=mpl.cm.jet)\n",
    "cmap.set_array([])\n",
    "\"\"\"\n",
    "fig, ax = plt.subplots(dpi=100)\n",
    "for i, yi in enumerate(y.T):\n",
    "    ax.plot(x, yi, c=cmap.to_rgba(i + 1))\n",
    "fig.colorbar(cmap, ticks=c)\n",
    "plt.show();\n",
    "\"\"\"\n",
    "fig, ax = plt.subplots(dpi=100)\n",
    "for i,theta in enumerate(theta_list):\n",
    "    mask = np.array(theta_true)==theta\n",
    "    a_true_sub = np.array(a_true)[mask]\n",
    "    a_pred_d_sub = np.array(a_pred_d)[mask]\n",
    "    #plt.scatter(a_true_sub,a_pred_d_sub)\n",
    "    ax.plot(a_true_sub,a_pred_d_sub,linestyle='-', marker='o',color=cmap.to_rgba(theta))\n",
    "plt.colorbar(cmap,ax=ax,ticks=theta_list,label='True theta')\n",
    "ax.plot(a_true_sub,a_true_sub,linestyle='--', color='black')\n",
    "plt.xlabel('True a')\n",
    "plt.ylabel('Fitted a')\n",
    "plt.title('With fitting omission')\n",
    "plt.show()"
   ]
  },
  {
   "cell_type": "code",
   "execution_count": 14,
   "id": "48c3a8b7-3e83-455c-8802-3a1ce0dd5c11",
   "metadata": {},
   "outputs": [
    {
     "data": {
      "image/png": "[encoded data removed]",
      "text/plain": [
       "<Figure size 640x480 with 2 Axes>"
      ]
     },
     "metadata": {},
     "output_type": "display_data"
    }
   ],
   "source": [
    "n_lines = len(theta_list)\n",
    "c = np.arange(1, n_lines + 1)\n",
    "import matplotlib as mpl\n",
    "norm = mpl.colors.Normalize(vmin=theta_list[0], vmax=theta_list[4])\n",
    "cmap = mpl.cm.ScalarMappable(norm=norm, cmap=mpl.cm.jet)\n",
    "cmap.set_array([])\n",
    "\"\"\"\n",
    "fig, ax = plt.subplots(dpi=100)\n",
    "for i, yi in enumerate(y.T):\n",
    "    ax.plot(x, yi, c=cmap.to_rgba(i + 1))\n",
    "fig.colorbar(cmap, ticks=c)\n",
    "plt.show();\n",
    "\"\"\"\n",
    "fig, ax = plt.subplots(dpi=100)\n",
    "for i,theta in enumerate(theta_list):\n",
    "    mask = np.array(theta_true)==theta\n",
    "    a_true_sub = np.array(a_true)[mask]\n",
    "    a_pred_nd_sub = np.array(a_pred_nd)[mask]\n",
    "    #plt.scatter(a_true_sub,a_pred_d_sub)\n",
    "    ax.plot(a_true_sub,a_pred_nd_sub,linestyle='-', marker='o',color=cmap.to_rgba(theta))\n",
    "plt.colorbar(cmap,ax=ax,ticks=theta_list,label='True theta')\n",
    "ax.plot(a_true_sub,a_true_sub,linestyle='--', color='black')\n",
    "plt.xlabel('True a')\n",
    "plt.ylabel('Fitted a')\n",
    "plt.title('Without fitting omission')\n",
    "plt.show()\n"
   ]
  },
  {
   "cell_type": "code",
   "execution_count": 15,
   "id": "f51c5bb9-ff4e-477d-b12c-5ab2422c6f54",
   "metadata": {},
   "outputs": [
    {
     "data": {
      "image/png": "[encoded data removed]",
      "text/plain": [
       "<Figure size 640x480 with 2 Axes>"
      ]
     },
     "metadata": {},
     "output_type": "display_data"
    }
   ],
   "source": [
    "n_lines = len(theta_list)\n",
    "c = np.arange(1, n_lines + 1)\n",
    "import matplotlib as mpl\n",
    "norm = mpl.colors.Normalize(vmin=a_list[0], vmax=a_list[4])\n",
    "cmap = mpl.cm.ScalarMappable(norm=norm, cmap=mpl.cm.jet)\n",
    "cmap.set_array([])\n",
    "\"\"\"\n",
    "fig, ax = plt.subplots(dpi=100)\n",
    "for i, yi in enumerate(y.T):\n",
    "    ax.plot(x, yi, c=cmap.to_rgba(i + 1))\n",
    "fig.colorbar(cmap, ticks=c)\n",
    "plt.show();\n",
    "\"\"\"\n",
    "fig, ax = plt.subplots(dpi=100)\n",
    "for i,a in enumerate(a_list):\n",
    "    mask = np.array(a_true)==a\n",
    "    theta_true_sub = np.array(theta_true)[mask]\n",
    "    or_sub = np.array(omission_list)[mask]\n",
    "    #plt.scatter(a_true_sub,a_pred_d_sub)\n",
    "    ax.plot(theta_true_sub,or_sub,linestyle='-', marker='o',color=cmap.to_rgba(a))\n",
    "plt.colorbar(cmap,ax=ax,ticks=a_list,label='True a')\n",
    "# ax.plot(a_true_sub,a_true_sub,linestyle='--', color='black')\n",
    "plt.xlabel('True theta')\n",
    "plt.ylabel('Omission Rate')\n",
    "plt.show()"
   ]
  },
  {
   "cell_type": "code",
   "execution_count": 16,
   "id": "8c5374de-84be-40ce-b0d1-1c687b3c6137",
   "metadata": {},
   "outputs": [
    {
     "data": {
      "image/png": "[encoded data removed]",
      "text/plain": [
       "<Figure size 640x480 with 2 Axes>"
      ]
     },
     "metadata": {},
     "output_type": "display_data"
    }
   ],
   "source": [
    "n_lines = len(a_list)\n",
    "c = np.arange(1, n_lines + 1)\n",
    "import matplotlib as mpl\n",
    "norm = mpl.colors.Normalize(vmin=a_list[0], vmax=a_list[4])\n",
    "cmap = mpl.cm.ScalarMappable(norm=norm, cmap=mpl.cm.jet)\n",
    "cmap.set_array([])\n",
    "\"\"\"\n",
    "fig, ax = plt.subplots(dpi=100)\n",
    "for i, yi in enumerate(y.T):\n",
    "    ax.plot(x, yi, c=cmap.to_rgba(i + 1))\n",
    "fig.colorbar(cmap, ticks=c)\n",
    "plt.show();\n",
    "\"\"\"\n",
    "fig, ax = plt.subplots(dpi=100)\n",
    "for i,a in enumerate(a_list):\n",
    "    mask = np.array(a_true)==a\n",
    "    theta_true_sub = np.array(theta_true)[mask]\n",
    "    theta_pred_d_sub = np.array(theta_pred_d)[mask]\n",
    "    #plt.scatter(a_true_sub,a_pred_d_sub)\n",
    "    ax.plot(theta_true_sub,theta_pred_d_sub,linestyle='-', marker='o',color=cmap.to_rgba(a))\n",
    "plt.colorbar(cmap,ax=ax,ticks=a_list,label='True a')\n",
    "ax.plot(theta_true_sub,theta_true_sub,linestyle='--', color='black')\n",
    "plt.xlabel('True theta')\n",
    "plt.ylabel('Fitted theta')\n",
    "plt.title('With fitting omission')\n",
    "plt.show()"
   ]
  },
  {
   "cell_type": "code",
   "execution_count": 17,
   "id": "c83e8861-2b52-4d80-aed1-5176ca1119b8",
   "metadata": {},
   "outputs": [
    {
     "data": {
      "image/png": "[encoded data removed]",
      "text/plain": [
       "<Figure size 640x480 with 2 Axes>"
      ]
     },
     "metadata": {},
     "output_type": "display_data"
    }
   ],
   "source": [
    "n_lines = len(a_list)\n",
    "c = np.arange(1, n_lines + 1)\n",
    "import matplotlib as mpl\n",
    "norm = mpl.colors.Normalize(vmin=a_list[0], vmax=a_list[4])\n",
    "cmap = mpl.cm.ScalarMappable(norm=norm, cmap=mpl.cm.jet)\n",
    "cmap.set_array([])\n",
    "\"\"\"\n",
    "fig, ax = plt.subplots(dpi=100)\n",
    "for i, yi in enumerate(y.T):\n",
    "    ax.plot(x, yi, c=cmap.to_rgba(i + 1))\n",
    "fig.colorbar(cmap, ticks=c)\n",
    "plt.show();\n",
    "\"\"\"\n",
    "fig, ax = plt.subplots(dpi=100)\n",
    "for i,a in enumerate(a_list):\n",
    "    mask = np.array(a_true)==a\n",
    "    theta_true_sub = np.array(theta_true)[mask]\n",
    "    theta_pred_nd_sub = np.array(theta_pred_nd)[mask]\n",
    "    #plt.scatter(a_true_sub,a_pred_d_sub)\n",
    "    ax.plot(theta_true_sub,theta_pred_nd_sub,linestyle='-', marker='o',color=cmap.to_rgba(a))\n",
    "plt.colorbar(cmap,ax=ax,ticks=a_list,label='True a')\n",
    "ax.plot(theta_true_sub,theta_true_sub,linestyle='--', color='black')\n",
    "plt.xlabel('True theta')\n",
    "plt.ylabel('Fitted theta')\n",
    "plt.title('Without fitting omission')\n",
    "plt.show()"
   ]
  },
  {
   "cell_type": "code",
   "execution_count": null,
   "id": "52504182-c9e5-4e89-9361-384893958eac",
   "metadata": {},
   "outputs": [],
   "source": []
  }
 ],
 "metadata": {
  "kernelspec": {
   "display_name": "lan_pipe",
   "language": "python",
   "name": "lan_pipe"
  },
  "language_info": {
   "codemirror_mode": {
    "name": "ipython",
    "version": 3
   },
   "file_extension": ".py",
   "mimetype": "text/x-python",
   "name": "python",
   "nbconvert_exporter": "python",
   "pygments_lexer": "ipython3",
   "version": "3.10.13"
  }
 },
 "nbformat": 4,
 "nbformat_minor": 5
}
